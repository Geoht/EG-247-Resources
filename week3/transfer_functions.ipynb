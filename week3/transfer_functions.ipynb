{
 "cells": [
  {
   "cell_type": "markdown",
   "metadata": {
    "slideshow": {
     "slide_type": "slide"
    }
   },
   "source": [
    "# Transfer Functions"
   ]
  },
  {
   "cell_type": "markdown",
   "metadata": {
    "slideshow": {
     "slide_type": "slide"
    }
   },
   "source": [
    "## Second Hour's Agenda\n",
    "\n",
    "* Transfer Functions"
   ]
  },
  {
   "cell_type": "markdown",
   "metadata": {
    "collapsed": false,
    "slideshow": {
     "slide_type": "fragment"
    }
   },
   "source": [
    "* A Couple of Examples"
   ]
  },
  {
   "cell_type": "markdown",
   "metadata": {
    "collapsed": false,
    "slideshow": {
     "slide_type": "fragment"
    }
   },
   "source": [
    "* Circuit Analysis Using MATLAB LTI Transfer Function Block"
   ]
  },
  {
   "cell_type": "markdown",
   "metadata": {
    "collapsed": true,
    "slideshow": {
     "slide_type": "fragment"
    }
   },
   "source": [
    "* Circuit Simulation Using Simulink Transfer Function Block"
   ]
  },
  {
   "cell_type": "markdown",
   "metadata": {
    "slideshow": {
     "slide_type": "slide"
    }
   },
   "source": [
    "## Transfer Functions for Circuits\n",
    "\n",
    "When doing circuit analysis with components defined in the complex frequency domain, the ratio of the output voltage $V_{\\mathrm{out}}(s)$ ro the input voltage $V_{\\mathrm{in}}(s)$ *under zero initial conditions* is of great interest. This ratio is known as the *voltage transfer function* denoted $G_v(s)$:\n",
    "\n",
    "$$G_v(s) = \\frac{V_{\\mathrm{out}}(s)}{V_{\\mathrm{in}}(s)}$$\n",
    "\n",
    "Similarly, the ratio of the output current $I_{\\mathrm{out}}(s)$ to the input current $I_{\\mathrm{in}}(s)$ *under zero initial conditions*, is called the *cuurent transfer function* denoted $G_i(s)$:\n",
    "\n",
    "$$G_i(s) = \\frac{I_{\\mathrm{out}}(s)}{I_{\\mathrm{in}}(s)}$$"
   ]
  },
  {
   "cell_type": "markdown",
   "metadata": {
    "slideshow": {
     "slide_type": "notes"
    }
   },
   "source": [
    "In practice, the current transfer function is rarely used, so we will use the voltage transfer function denoted:\n",
    "\n",
    "$$G(s) = \\frac{V_{\\mathrm{out}}(s)}{V_{\\mathrm{in}}(s)}$$"
   ]
  },
  {
   "cell_type": "markdown",
   "metadata": {
    "slideshow": {
     "slide_type": "subslide"
    }
   },
   "source": [
    "### Example 6\n",
    "\n",
    "Derive an expression for the transfer function $G(s)$ for the circuit below. In this circuit $R_g$ represents the internal resistance of the applied (voltage) source $v_s$, and $R_L$ represents the resistance of the load that consists of $R_L$, $L$ and $C$.\n",
    "\n",
    "![Circuit for Example 6](pictures/example6.png)"
   ]
  },
  {
   "cell_type": "markdown",
   "metadata": {
    "slideshow": {
     "slide_type": "skip"
    }
   },
   "source": [
    "<pre style=\"border: 2px solid blue\">\n",
    "\n",
    "\n",
    "\n",
    "\n",
    "\n",
    "\n",
    "\n",
    "\n",
    "\n",
    "\n",
    "\n",
    "\n",
    "\n",
    "\n",
    "\n",
    "</pre>"
   ]
  },
  {
   "cell_type": "markdown",
   "metadata": {
    "slideshow": {
     "slide_type": "subslide"
    }
   },
   "source": [
    "### Sketch of Solution\n",
    "\n",
    "* Replace $v_s(t)$, $R_g$, $R_L$, $L$ and $C$ by their transformed (*complex frequency*) equivalents: $V_s(s)$, $R_g$, $R_L$, $sL$ and $1/(sC)$\n",
    "* Use the *Voltage Divider Rule* to determine $V_\\mathrm{out}(s)$ as a function of $V_s(s)$ \n",
    "* Form $G(s)$ by writing down the ratio $V_\\mathrm{out}(s)/V_s(s)$"
   ]
  },
  {
   "cell_type": "markdown",
   "metadata": {
    "slideshow": {
     "slide_type": "subslide"
    }
   },
   "source": [
    "### Example 7\n",
    "\n",
    "Compute the transfer function for the op-amp circuit shown below in terms of the circuit constants $R_1$, $R_2$, $R_3$, $C_1$ and $C_2$. Then replace the complex variable $s$ with $j\\omega$, and the circuit constants with their numerical values and plot the magnitude $\\left|G(s)\\right| = \\left|V_\\mathrm{out}(s)/V_\\mathrm{in}(s)\\right|$ versus radian frequency $\\omega$.\n",
    "\n",
    "![Circuit for Example 7](pictures/example7.png)"
   ]
  },
  {
   "cell_type": "markdown",
   "metadata": {
    "slideshow": {
     "slide_type": "skip"
    }
   },
   "source": [
    "<pre style=\"border: 2px solid blue\">\n",
    "\n",
    "\n",
    "\n",
    "\n",
    "\n",
    "\n",
    "\n",
    "\n",
    "\n",
    "\n",
    "\n",
    "\n",
    "\n",
    "\n",
    "\n",
    "</pre>"
   ]
  },
  {
   "cell_type": "markdown",
   "metadata": {
    "slideshow": {
     "slide_type": "subslide"
    }
   },
   "source": [
    "### Sketch of Solution\n",
    "\n",
    "* Replace the components and voltages in the circuit diagram with their complex frequency equivalents\n",
    "* Use nodal analysis to determine the voltages at the nodes either side of the 50K resistor $R_3$\n",
    "* Note that the voltage at the input to the op-amp is a virtual ground\n",
    "* Solve for $V_\\mathrm{out}(s)$ as a function of $V_\\mathrm{in}(s)$\n",
    "* Form the reciprocal $G(s) = V_\\mathrm{out}(s)/V_\\mathrm{in}(s)$\n",
    "* Use MATLAB to calculate the component values, then replace $s$ by $j\\omega$.\n",
    "* Plot $\\left|G(j\\omega)\\right|$ on log-linear \"paper\" "
   ]
  },
  {
   "cell_type": "markdown",
   "metadata": {
    "slideshow": {
     "slide_type": "subslide"
    }
   },
   "source": [
    "### The Matlab Bit\n",
    "\n",
    "See attached script: [solution7.m](matlab/solution7.m).\n",
    "\n",
    "![Solution to Example 7](pictures/solution7.png)"
   ]
  },
  {
   "cell_type": "markdown",
   "metadata": {
    "slideshow": {
     "slide_type": "slide"
    }
   },
   "source": [
    "## Using Transfer Functions in Matlab for System Analysis\n",
    "\n",
    "Please use the file [tf_matlab.m](matlab/tf_matlab.m) to explore the Transfer Function features provide by Matlab. Use the *publish* option to generate a nicely formatted document."
   ]
  },
  {
   "cell_type": "markdown",
   "metadata": {
    "slideshow": {
     "slide_type": "slide"
    }
   },
   "source": [
    "## Using Transfer Functions in Simulink for System Simulation\n",
    "\n",
    "![Using Transfer Functions in Simulink for System Simulation](pictures/sim_tf.png)\n",
    "\n",
    "The Simulink transfer function (**`Transfer Fcn`**) block shown above implements a transfer function representing a general\n",
    "input output function\n",
    "\n",
    "$$G(s) = \\frac{N(s)}{D(s)}$$\n",
    "\n",
    "that it is not specific nor restricted to circuit analysis. It can, however be used in modelling and simulation studies. "
   ]
  },
  {
   "cell_type": "markdown",
   "metadata": {
    "slideshow": {
     "slide_type": "subslide"
    }
   },
   "source": [
    "### Example\n",
    "\n",
    "Recast Example 7 as a Matlab problem using the LTI Transfer Function block. For simplicity use parameters $R_1 = R_2 = R_3 = 1\\; \\Omega$, and $C_1 = C_2 = 1\\;\\mathrm{F}$. Calculate the step response using the LTI functions.\n",
    "\n",
    "The Matlab solution: [example8.m](matlab/example8.m)\n",
    "\n",
    "Verify the result with Simulink."
   ]
  }
 ],
 "metadata": {
  "anaconda-cloud": {},
  "celltoolbar": "Slideshow",
  "kernelspec": {
   "display_name": "Python [default]",
   "language": "python",
   "name": "python3"
  },
  "language_info": {
   "codemirror_mode": {
    "name": "ipython",
    "version": 3
   },
   "file_extension": ".py",
   "mimetype": "text/x-python",
   "name": "python",
   "nbconvert_exporter": "python",
   "pygments_lexer": "ipython3",
   "version": "3.5.2"
  }
 },
 "nbformat": 4,
 "nbformat_minor": 0
}
