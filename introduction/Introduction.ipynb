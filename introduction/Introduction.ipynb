{
 "cells": [
  {
   "cell_type": "markdown",
   "metadata": {},
   "source": [
    "## Setup\n",
    "\n",
    "For this notebook to work properly ensure that you change Matlab working directory to `../EG-247-Resources/introduction/matlab`."
   ]
  },
  {
   "cell_type": "code",
   "execution_count": 1,
   "metadata": {},
   "outputs": [
    {
     "name": "stdout",
     "output_type": "stream",
     "text": [
      "\n",
      "ans =\n",
      "\n",
      "    '/Users/eechris/dev/EG-247-Resources/introduction'\n",
      "\n"
     ]
    }
   ],
   "source": [
    "pwd"
   ]
  },
  {
   "cell_type": "code",
   "execution_count": 2,
   "metadata": {},
   "outputs": [],
   "source": [
    "cd matlab"
   ]
  },
  {
   "cell_type": "code",
   "execution_count": 3,
   "metadata": {},
   "outputs": [
    {
     "name": "stdout",
     "output_type": "stream",
     "text": [
      "\n",
      "ans =\n",
      "\n",
      "    '/Users/eechris/dev/EG-247-Resources/introduction/matlab'\n",
      "\n"
     ]
    }
   ],
   "source": [
    "pwd"
   ]
  },
  {
   "cell_type": "markdown",
   "metadata": {
    "slideshow": {
     "slide_type": "slide"
    }
   },
   "source": [
    "# Introducing Signals and Systems"
   ]
  },
  {
   "cell_type": "markdown",
   "metadata": {
    "slideshow": {
     "slide_type": "fragment"
    }
   },
   "source": [
    "An annotatable copy of the full notes for this presentation are to be found in the *_Content Library* of the **OneNote Class Notebook** for this class. You can also view the notes for this presentation as a webpage ([HTML](http://nbviewer.ipython.org/github/cpjobling/EG-247-Resources/blob/master/introduction/Introduction.ipynb)) and as a downloadable [PDF file](http://cpjobling.github.io/EG-247-Resources/introduction/Introduction.pdf).\n"
   ]
  },
  {
   "cell_type": "markdown",
   "metadata": {
    "slideshow": {
     "slide_type": "slide"
    }
   },
   "source": [
    "## Signals and Systems for Dummies\n",
    "\n",
    "Signals and Systems for Dummies (**SS4D**) provides a useful introduction to the topics that will be covered in this module and it is in the Reading List as a *recommended text*. I have based this presentation on Chapter 1 which is available as a [downloadable PDF](http://eu.dummies.com/store/product/Signals-and-Systems-For-Dummies.productCd-111847581X.html) from the publishers.\n",
    "\n",
    "You should read Chapter 1 of SS4D in conjunction with the notes for this presentation."
   ]
  },
  {
   "cell_type": "markdown",
   "metadata": {
    "slideshow": {
     "slide_type": "notes"
    }
   },
   "source": [
    "Note that Signals and Systems for Dummies is available as an e-book from the [Bay Library](http://whel-primo.hosted.exlibrisgroup.com/44WHELF_SWA_VU1:LSCOP_44WHELF_SWA_ALMA_DS:44WHELF_SWA_ALMA_DS5156109590002417)."
   ]
  },
  {
   "cell_type": "markdown",
   "metadata": {
    "slideshow": {
     "slide_type": "slide"
    }
   },
   "source": [
    "## Agenda\n",
    "\n",
    "* Continuous-time signals\n",
    "* Continuous-time systems\n",
    "* Discrete-time signals\n",
    "* Discrete-time systems\n",
    "* Signal Classifications\n",
    "* Domains for Signals\n",
    "* Systems Thinking and Systems Design"
   ]
  },
  {
   "cell_type": "markdown",
   "metadata": {
    "slideshow": {
     "slide_type": "subslide"
    }
   },
   "source": [
    "These will be illustrated with computation in *Wolfram|Alpha*, *Matlab*, *Simulink* and *Python*.\n",
    "\n",
    "We will use TurningPoint for audience participation."
   ]
  },
  {
   "cell_type": "markdown",
   "metadata": {
    "slideshow": {
     "slide_type": "slide"
    }
   },
   "source": [
    "## Setup\n",
    "\n",
    "We will be using TurningPoint mobile response system polling in this session.\n",
    "\n",
    "There are two ways to participate:\n",
    "    \n",
    "\n"
   ]
  },
  {
   "cell_type": "markdown",
   "metadata": {
    "slideshow": {
     "slide_type": "subslide"
    }
   },
   "source": [
    "### 1. Use a web browser \n",
    "\n",
    "Browse to: [responseware.turningtechnologies.com](https://responseware.turningtechnologies.com). \n",
    "\n",
    "![QR Code](https://chart.googleapis.com/chart?cht=qr&chs=300x300&choe=UTF-8&chld=H&chl=https://goo.gl/rPE4Ls)\n",
    "\n",
    "https://goo.gl/rPE4Ls\n"
   ]
  },
  {
   "cell_type": "markdown",
   "metadata": {
    "slideshow": {
     "slide_type": "subslide"
    }
   },
   "source": [
    "### 2. Install and open the TurningPoint app \n",
    "\n",
    "Browse to: [TurningPoint\n",
    "Mobile Responding](https://www.turningtechnologies.com/response-options/mobile)\n",
    "\n",
    "![QR Code](https://chart.googleapis.com/chart?cht=qr&chs=300x300&choe=UTF-8&chld=H&chl=https://goo.gl/DmGeQv)\n",
    "\n",
    "https://goo.gl/DmGeQv\n",
    "\n",
    "Use the links to the App stores at the bottom of that page or follow these links: [App Store](https://itunes.apple.com/gb/app/turningpoint/id300028504?mt=8), [Google Play](https://play.google.com/store/apps/details?id=com.turningTech.Responseware&feature=search_result#?t=W251bGwsMSwyLDEsImNvbS50dXJuaW5nVGVjaC5SZXNwb25zZXdhcmUiXQ..)."
   ]
  },
  {
   "cell_type": "markdown",
   "metadata": {
    "slideshow": {
     "slide_type": "subslide"
    }
   },
   "source": [
    "When prompted: enter the **session ID**\n",
    "\n",
    "## Today's Session ID\n",
    "<pre>\n",
    "\n",
    "\n",
    "\n",
    "</pre>\n",
    "<div style=\"font-size: 32pt; font-face: bold;\">XXXXX</div>"
   ]
  },
  {
   "cell_type": "markdown",
   "metadata": {
    "slideshow": {
     "slide_type": "subslide"
    }
   },
   "source": [
    "### Assign yourself to a group by table\n",
    "\n",
    "There should be a post-it note with a **group name** on your table."
   ]
  },
  {
   "cell_type": "markdown",
   "metadata": {
    "slideshow": {
     "slide_type": "fragment"
    }
   },
   "source": [
    "Please use your TurningPoint app or web login to assign yourself to your table's group name."
   ]
  },
  {
   "cell_type": "markdown",
   "metadata": {
    "slideshow": {
     "slide_type": "fragment"
    }
   },
   "source": [
    "#### -> Launch Poll"
   ]
  },
  {
   "cell_type": "markdown",
   "metadata": {
    "slideshow": {
     "slide_type": "fragment"
    }
   },
   "source": [
    "The rest of the session will be anonymous and scored by teams."
   ]
  },
  {
   "cell_type": "markdown",
   "metadata": {
    "slideshow": {
     "slide_type": "subslide"
    }
   },
   "source": [
    "### Icebreaker Questions"
   ]
  },
  {
   "cell_type": "markdown",
   "metadata": {
    "slideshow": {
     "slide_type": "fragment"
    }
   },
   "source": [
    "#### -> Launch Poll"
   ]
  },
  {
   "cell_type": "markdown",
   "metadata": {
    "slideshow": {
     "slide_type": "subslide"
    }
   },
   "source": [
    "### End of setup"
   ]
  },
  {
   "cell_type": "markdown",
   "metadata": {
    "slideshow": {
     "slide_type": "slide"
    }
   },
   "source": [
    "## Continuous-time signals\n",
    "\n",
    "Continuous signals are represented mathematically by functions which vary continuously with time.\n",
    "\n",
    "\n",
    "\n"
   ]
  },
  {
   "cell_type": "markdown",
   "metadata": {
    "slideshow": {
     "slide_type": "subslide"
    }
   },
   "source": [
    "Sinusoidal signals (e.g. AC) are pretty fundamental in electrical engineering. The mathematical model of a sinusoidal signal is:\n",
    "\n",
    "$$x(t) = A \\cos (2\\pi f_0 t - \\phi).$$ \n",
    "\n",
    "**Without talking to your anyone**, match each of the symbols to its definition\n",
    "\n",
    "| Symbol     | Definition         |\n",
    "|------------|--------------------|\n",
    "| $A$        | Phase in radians   |\n",
    "| $f_0$      | Frequency in Hz    |\n",
    "| $\\phi$     | Amplitude          |\n",
    "| $2\\pi f_0$ | Frequency in rad/s |"
   ]
  },
  {
   "cell_type": "markdown",
   "metadata": {
    "slideshow": {
     "slide_type": "fragment"
    }
   },
   "source": [
    "#### -> Open Poll"
   ]
  },
  {
   "cell_type": "markdown",
   "metadata": {
    "slideshow": {
     "slide_type": "subslide"
    }
   },
   "source": [
    "### Gaining insight using computers\n",
    "\n",
    "To help us answer these questions, let's use our Mathematical tools to plot a signal like this and explore it. The example we will use is from *Signals and Systems for Dummies* (SS4D: page 12): \n",
    "\n",
    "$$3\\cos(2\\pi\\cdot 2t - 3\\pi/4)$$"
   ]
  },
  {
   "cell_type": "markdown",
   "metadata": {
    "slideshow": {
     "slide_type": "subslide"
    }
   },
   "source": [
    "### Wolfram|Alpha\n",
    "\n",
    "Here's the link: <http://www.wolframalpha.com>\n",
    "\n",
    "Paste this into the search box\n",
    "\n",
    "    plot 3 cos(2 pi 2 t - 3 pi/4) \n"
   ]
  },
  {
   "cell_type": "markdown",
   "metadata": {
    "slideshow": {
     "slide_type": "subslide"
    }
   },
   "source": [
    "### Matlab\n",
    "\n",
    "In Matlab we would need to tackle this by breaking down the steps."
   ]
  },
  {
   "cell_type": "markdown",
   "metadata": {
    "collapsed": true,
    "slideshow": {
     "slide_type": "fragment"
    }
   },
   "source": [
    "Define `t`"
   ]
  },
  {
   "cell_type": "code",
   "execution_count": 4,
   "metadata": {
    "slideshow": {
     "slide_type": "-"
    }
   },
   "outputs": [],
   "source": [
    "t = linspace(0, 1, 100);"
   ]
  },
  {
   "cell_type": "markdown",
   "metadata": {
    "collapsed": true,
    "slideshow": {
     "slide_type": "fragment"
    }
   },
   "source": [
    "Define `x`"
   ]
  },
  {
   "cell_type": "code",
   "execution_count": 5,
   "metadata": {
    "slideshow": {
     "slide_type": "-"
    }
   },
   "outputs": [],
   "source": [
    "x = 3 * cos(2*pi*2*t - 3*pi/4);"
   ]
  },
  {
   "cell_type": "markdown",
   "metadata": {
    "collapsed": true,
    "slideshow": {
     "slide_type": "subslide"
    }
   },
   "source": [
    "Plot result and label plot"
   ]
  },
  {
   "cell_type": "code",
   "execution_count": 6,
   "metadata": {
    "slideshow": {
     "slide_type": "-"
    }
   },
   "outputs": [
    {
     "data": {
      "image/png": "[encoded data removed]",
      "text/plain": [
       "<IPython.core.display.Image object>"
      ]
     },
     "metadata": {},
     "output_type": "display_data"
    }
   ],
   "source": [
    "plot(t,x)\n",
    "title('A Sinusoidal Signal')\n",
    "xlabel('Time t (s)')\n",
    "ylabel('Amplitude')\n",
    "grid"
   ]
  },
  {
   "cell_type": "markdown",
   "metadata": {
    "slideshow": {
     "slide_type": "notes"
    }
   },
   "source": [
    "See [sinewave.m](matlab/sinewave.m)."
   ]
  },
  {
   "cell_type": "markdown",
   "metadata": {
    "slideshow": {
     "slide_type": "subslide"
    }
   },
   "source": [
    "### Returning to the Question\n",
    "\n",
    "Sinusoidal signals (e.g. AC) are pretty fundamental in electrical engineering. The mathematical model of a sinusoidal signal is:\n",
    "\n",
    "$$x(t) = A \\cos (2\\pi f_0 t - \\phi).$$ \n",
    "\n",
    "Using the insight just gained by exploring this function with a computer, try matching each of the symbols to its definition again.\n",
    "\n",
    "**This time you may confer!**!\n",
    "\n",
    "| Symbol     | Definition         |\n",
    "|------------|--------------------|\n",
    "| $A$        | Phase in radians   |\n",
    "| $f_0$      | Frequency in Hz    |\n",
    "| $\\phi$     | Amplitude          |\n",
    "| $2\\pi f_0$ | Frequency in rad/s |"
   ]
  },
  {
   "cell_type": "markdown",
   "metadata": {
    "slideshow": {
     "slide_type": "subslide"
    }
   },
   "source": [
    "### Supplementary question\n",
    "\n",
    "What is the period of the waveform in seconds?\n",
    "\n",
    "1. $2\\pi$\n",
    "1. $f_0$\n",
    "1. $t$\n",
    "1. $1/f_0$\n",
    "1. $2\\pi/f_0$"
   ]
  },
  {
   "cell_type": "markdown",
   "metadata": {
    "slideshow": {
     "slide_type": "fragment"
    }
   },
   "source": [
    "#### -> Open poll"
   ]
  },
  {
   "cell_type": "markdown",
   "metadata": {
    "slideshow": {
     "slide_type": "notes"
    }
   },
   "source": [
    "### Notes\n",
    "\n",
    "* In communications and electronic signal processing, the frequency of sinusoidal signals us usually given in *cycles per second* or Hz. \n",
    "* In mathematics, the frequency is always expressed in *radians per second*. \n",
    "* In some courses, including later in this one and in EG-243 Control Systems, the frequency $2\\pi f_0$ is often called the *natural frequency* and is usually written $\\omega_n$."
   ]
  },
  {
   "cell_type": "markdown",
   "metadata": {
    "slideshow": {
     "slide_type": "notes"
    }
   },
   "source": [
    "### Try This Yourself\n",
    "\n",
    "* Use any or all of computing tools that you have access to to explore other sinusoids. Change the values of the variables and explain what happens. \n",
    "* Try adding sinusoids of different amplitudes and different frequencies together and see what happens.\n",
    "* Change `cos` to `sin` and see what happens.\n"
   ]
  },
  {
   "cell_type": "markdown",
   "metadata": {
    "slideshow": {
     "slide_type": "slide"
    }
   },
   "source": [
    "## Continuous-time Systems\n",
    "\n",
    "Systems operate on signals. In mathematical terms, a *system* is a function or an *operator*, $H\\{\\}$ that maps the input signal $x(t)$ to an output signal $y(t)$. \n",
    "\n",
    "Mathematically we would write this:\n",
    "\n",
    "$$y(t) = H\\{x(t)\\}.$$"
   ]
  },
  {
   "cell_type": "markdown",
   "metadata": {
    "slideshow": {
     "slide_type": "subslide"
    }
   },
   "source": [
    "### Example\n",
    "\n",
    "An example of a continuous-time system is an electronic amplifier with a gain of 5 and level shift of 2: $y(t) = H\\{x(t)\\} = 5x(t) + 2$.\n",
    "\n",
    "In this course, we will model such systems as block diagram models in Simulink."
   ]
  },
  {
   "cell_type": "markdown",
   "metadata": {
    "slideshow": {
     "slide_type": "subslide"
    }
   },
   "source": [
    "### Block diagram model in Simulink\n",
    "\n",
    "<img src=\"pictures/css.png\">\n",
    "\n",
    "The Similink code can be downloaded from this file [gain_level_shift.slx](matlab/gain_level_shift.slx)."
   ]
  },
  {
   "cell_type": "markdown",
   "metadata": {
    "slideshow": {
     "slide_type": "subslide"
    }
   },
   "source": [
    "## Demonstration\n",
    "\n",
    "If the input to this system is replaced with a sinewave $x(t)=\\sin(t)$ and the output with a scope, what do you think the output will be?\n",
    "\n",
    "<pre style=\"border: 2px solid blue\">\n",
    "\n",
    "\n",
    "\n",
    "\n",
    "\n",
    "</pre>\n",
    "\n",
    "If you get a chance, try this in youself in Matlab and copy the result into your copy of these notes.\n"
   ]
  },
  {
   "cell_type": "code",
   "execution_count": null,
   "metadata": {
    "collapsed": true,
    "slideshow": {
     "slide_type": "subslide"
    }
   },
   "outputs": [],
   "source": [
    "open gain_level_shift"
   ]
  },
  {
   "cell_type": "markdown",
   "metadata": {
    "slideshow": {
     "slide_type": "slide"
    }
   },
   "source": [
    "## Discrete-time Signals\n",
    "\n",
    "Disrete-time signals are a function of a time index $n$. A discrete-time signal $x[n]$, unlike a continuous-time signal $x(t)$, is only defined at integer values of the independent variable $n$. This means that the signal is only active at specific periods of time. Discrete-time signals can be stored in computer memory."
   ]
  },
  {
   "cell_type": "markdown",
   "metadata": {
    "slideshow": {
     "slide_type": "subslide"
    }
   },
   "source": [
    "### Example\n",
    "\n",
    "Consider the following simple signal, a pulse sequence:$$y[n] = \\left\\{ {\\begin{array}{*{20}{c}}\n",
    "{5,\\;0 \\le n < 10}\\\\\n",
    "{0,\\;{\\rm{otherwise}}\\quad \\;}\n",
    "\\end{array}} \\right.$$\n",
    "We can plot this in Matlab as a *stem plot*"
   ]
  },
  {
   "cell_type": "markdown",
   "metadata": {
    "slideshow": {
     "slide_type": "subslide"
    }
   },
   "source": [
    "## Procedure\n",
    "\n",
    "Define function and save as [y.m](files/matlab/y.m)."
   ]
  },
  {
   "cell_type": "code",
   "execution_count": null,
   "metadata": {
    "collapsed": true,
    "slideshow": {
     "slide_type": "subslide"
    }
   },
   "outputs": [],
   "source": [
    "open y"
   ]
  },
  {
   "cell_type": "code",
   "execution_count": 9,
   "metadata": {
    "slideshow": {
     "slide_type": "subslide"
    }
   },
   "outputs": [],
   "source": [
    "%% Define sample points\n",
    "n = -15:18;\n",
    "%% Make space for the signal\n",
    "xn = zeros(size(n));\n",
    "\n",
    "%% Compute the signal x[n]\n",
    "for i = 1:length(xn)\n",
    "    xn(i) = y(n(i));\n",
    "end"
   ]
  },
  {
   "cell_type": "code",
   "execution_count": 8,
   "metadata": {
    "slideshow": {
     "slide_type": "subslide"
    }
   },
   "outputs": [
    {
     "data": {
      "image/png": "[encoded data removed]",
      "text/plain": [
       "<IPython.core.display.Image object>"
      ]
     },
     "metadata": {},
     "output_type": "display_data"
    }
   ],
   "source": [
    "%% Plot the result\n",
    "stem(n,xn)\n",
    "axis([-15, 18, 0, 6])\n",
    "title('Stem Plot for a Discrete Signal')\n",
    "xlabel('Sample n')\n",
    "ylabel('Signal x[n]')\n",
    "grid"
   ]
  },
  {
   "cell_type": "markdown",
   "metadata": {
    "slideshow": {
     "slide_type": "notes"
    }
   },
   "source": [
    "See [discete.m](matlab/discrete.m)"
   ]
  },
  {
   "cell_type": "markdown",
   "metadata": {
    "slideshow": {
     "slide_type": "subslide"
    }
   },
   "source": [
    "### Exercise\n",
    "\n",
    "Draw a digital signal that represents your student number in some way. For example if your number was 765443, then you could generate a signal for which $x[n] = 0$ when $n < 7$, then $x[n] = 7$ for $7$ periods, then $x[n] = 6$ for the next 6 periods, $x[n] = 5$ for 5 periods, and so on. The signal should return to 0 when the last digit has been transmitted. \n",
    "<pre style=\"border: 2px solid blue;\">\n",
    "\n",
    "\n",
    "\n",
    "\n",
    "\n",
    "\n",
    "\n",
    "\n",
    "\n",
    "</pre>\n"
   ]
  },
  {
   "cell_type": "markdown",
   "metadata": {
    "slideshow": {
     "slide_type": "subslide"
    }
   },
   "source": [
    "To plot this on a computer you would need to transcribe $x[n]$ into an array and then use the stem plot to plot the data. You could just create the array by hand, but you could also create a Matlab function if you would like a challenge."
   ]
  },
  {
   "cell_type": "markdown",
   "metadata": {
    "slideshow": {
     "slide_type": "slide"
    }
   },
   "source": [
    "## Discrete-time Systems\n",
    "\n",
    "A discrete-time system, like its continuous-time counterpart, is a function, $H\\{\\}$, that maps the input $x[n]$￼ ￼to the output $y[n] = H\\{x[n]\\}$. An example of a discrete-time system is the *two-tap* filter:\n",
    "\n",
    "$$y[n] = H\\{x[n]\\} = \\frac{3}{4}x[n] + \\frac{1}{4}x[n-1]$$"
   ]
  },
  {
   "cell_type": "markdown",
   "metadata": {
    "slideshow": {
     "slide_type": "subslide"
    }
   },
   "source": [
    "The term *tap* denotes that output at time instant $n$ is formed from two time instants of the input, $n$ and $n – 1$. Check out a block diagram of a two-tap filter system:\n",
    "\n",
    "<img src=\"pictures/ds.png\" width=\"50%\" />\n",
    "\n",
    "This system is available as a Simulink model [discrete_system.slx](matlab/discrete_system.slx)"
   ]
  },
  {
   "cell_type": "code",
   "execution_count": null,
   "metadata": {
    "collapsed": true,
    "slideshow": {
     "slide_type": "subslide"
    }
   },
   "outputs": [],
   "source": [
    "open discrete_system"
   ]
  },
  {
   "cell_type": "markdown",
   "metadata": {
    "slideshow": {
     "slide_type": "notes"
    }
   },
   "source": [
    "In words, this system scales the present input by 3/4 and adds it to the past value of the input scaled by 1/4. The notion of the past input comes about because ￼$x[n - 1]$ is lagging one sample value behind ￼$x[n]$. The term *filter* describes the output as an *averaging* of the present input and the previous input. *Averaging* is a form of filtering."
   ]
  },
  {
   "cell_type": "markdown",
   "metadata": {
    "slideshow": {
     "slide_type": "slide"
    }
   },
   "source": [
    "## Signal Classifications"
   ]
  },
  {
   "cell_type": "markdown",
   "metadata": {
    "slideshow": {
     "slide_type": "subslide"
    }
   },
   "source": [
    "### Periodic\n",
    "\n",
    "Signals that repeat over and over are said to be *periodic*. In mathematical terms, a signal is periodic if:\n",
    "\n",
    "* *Continuous signal* $x(t + T) = x(t)$\n",
    "* *Discrete signal* $x[n + N] = x[n]$\n",
    "\n",
    "￼￼￼￼￼￼￼￼￼￼￼￼￼￼￼￼￼￼￼￼￼￼￼￼￼￼￼￼￼￼￼￼￼￼￼￼￼￼￼￼￼￼￼￼￼￼￼￼￼￼￼￼￼￼The smallest $T$ or $N$ for which the equality holds is the *signal period*."
   ]
  },
  {
   "cell_type": "markdown",
   "metadata": {
    "slideshow": {
     "slide_type": "notes"
    }
   },
   "source": [
    "The sinusoidal signal we saw earlier is periodic because of the $\\mod 2\\pi$ property of cosines. The signal of the sinusoid has period 0.5 seconds (s), which turns out to be the reciprocal of the frequency ￼ $1/f_0$￼ ￼ Hz."
   ]
  },
  {
   "cell_type": "markdown",
   "metadata": {
    "slideshow": {
     "slide_type": "subslide"
    }
   },
   "source": [
    "![A square wave](pictures/squarew.png)"
   ]
  },
  {
   "cell_type": "markdown",
   "metadata": {
    "slideshow": {
     "slide_type": "notes"
    }
   },
   "source": [
    "This Square wave is a 5 Hz waveform sampled at 500 Hz for 1 second"
   ]
  },
  {
   "cell_type": "markdown",
   "metadata": {
    "slideshow": {
     "slide_type": "fragment"
    }
   },
   "source": [
    "$T = $?"
   ]
  },
  {
   "cell_type": "markdown",
   "metadata": {
    "slideshow": {
     "slide_type": "notes"
    }
   },
   "source": [
    "<pre style=\"border: 2px solid blue\">\n",
    "\n",
    "\n",
    "\n",
    "\n",
    "</pre>"
   ]
  },
  {
   "cell_type": "markdown",
   "metadata": {
    "slideshow": {
     "slide_type": "subslide"
    }
   },
   "source": [
    "### Question\n",
    "\n",
    "For the example we started with $x(t) = 2 \\cos (2\\pi . 2t + 3\\pi/4)$. Say we sample the cosine wave at 20 times the frequency of the sinusoid, what would the sampling period be and what would $N$ be for the sampled waveform?"
   ]
  },
  {
   "cell_type": "markdown",
   "metadata": {
    "slideshow": {
     "slide_type": "notes"
    }
   },
   "source": [
    "#### Your Answer\n",
    "\n",
    "<pre style=\"border: 2px solid blue\">\n",
    "\n",
    "\n",
    "\n",
    "\n",
    "\n",
    "\n",
    "\n",
    "\n",
    "\n",
    "\n",
    "</pre>"
   ]
  },
  {
   "cell_type": "markdown",
   "metadata": {
    "slideshow": {
     "slide_type": "subslide"
    }
   },
   "source": [
    "### Aperiodic \n",
    "\n",
    "Signals that are *deterministic* (completely determined functions of time) but not periodic are known as *aperiodic*. Point of view matters. If a signal occurs infrequently, you may view it as aperiodic. \n",
    "\n",
    "This is how we generate an aperiodic rectangular pulse of duration $\\tau$ in Matlab:\n",
    "\n",
    "See [aperiodic.m](matlab/aperiodic.m)\n",
    "\n"
   ]
  },
  {
   "cell_type": "code",
   "execution_count": null,
   "metadata": {
    "slideshow": {
     "slide_type": "subslide"
    }
   },
   "outputs": [],
   "source": [
    "%% An aperiodic function\n",
    "tau = 1;\n",
    "x = linspace(-1,5,1000);\n",
    "y = rectangularPulse(0,tau,x);"
   ]
  },
  {
   "cell_type": "code",
   "execution_count": 10,
   "metadata": {
    "slideshow": {
     "slide_type": "subslide"
    }
   },
   "outputs": [
    {
     "data": {
      "image/png": "[encoded data removed]",
      "text/plain": [
       "<IPython.core.display.Image object>"
      ]
     },
     "metadata": {},
     "output_type": "display_data"
    }
   ],
   "source": [
    "plot(x,y)\n",
    "ylim([-0.2,1.2])\n",
    "grid\n",
    "title('An Aperiodic Signal')\n",
    "xlabel('Time t (s)')\n",
    "ylabel('Amplitude')"
   ]
  },
  {
   "cell_type": "markdown",
   "metadata": {
    "slideshow": {
     "slide_type": "subslide"
    }
   },
   "source": [
    "### Random\n",
    "\n",
    "A signal is random if one or more signal attributes takes on unpredictable\n",
    "values in a probability sense.\n",
    "￼￼￼￼￼￼￼￼￼￼￼￼￼￼￼￼￼￼￼￼￼\n",
    "Engineers working with communication receivers are concerned with random\n",
    "signals, especially noise.\n",
    "\n",
    "See: [random.m](https://github.com/cpjobling/EG-247-Resources/blob/master/introduction/matlab/random.m)\n"
   ]
  },
  {
   "cell_type": "code",
   "execution_count": 11,
   "metadata": {
    "slideshow": {
     "slide_type": "subslide"
    }
   },
   "outputs": [
    {
     "data": {
      "image/png": "[encoded data removed]",
      "text/plain": [
       "<IPython.core.display.Image object>"
      ]
     },
     "metadata": {},
     "output_type": "display_data"
    }
   ],
   "source": [
    "%% Plot a Random Signal\n",
    "plot(0.5 + 0.25 * rand(100,1))\n",
    "ylim([0,1])\n",
    "grid\n",
    "title('Random Signal')\n",
    "xlabel('Time t (s)')\n",
    "ylabel('Amplitude')"
   ]
  },
  {
   "cell_type": "markdown",
   "metadata": {
    "slideshow": {
     "slide_type": "slide"
    }
   },
   "source": [
    "## Domains for Signals and Systems\n",
    "\n",
    "Most of the signals we encounter on a daily basis reside in the time domain. They’re functions of independent variable $t$ or $n$. But sometimes when you’re working with continuous-time signals, you may need to transform away from the time domain ($t$) to another domain."
   ]
  },
  {
   "cell_type": "markdown",
   "metadata": {
    "slideshow": {
     "slide_type": "subslide"
    }
   },
   "source": [
    "### Domain Quiz\n",
    "\n",
    "A domain which is used in the analysis of signals and the design of systems is represented by complex numbers of the form:\n",
    "\n",
    "$$\\sigma + j\\omega$$\n",
    "\n",
    "**Without conferring**, tell me what domain is this?"
   ]
  },
  {
   "cell_type": "markdown",
   "metadata": {
    "slideshow": {
     "slide_type": "fragment"
    }
   },
   "source": [
    "#### -> Open Poll"
   ]
  },
  {
   "cell_type": "markdown",
   "metadata": {
    "slideshow": {
     "slide_type": "subslide"
    }
   },
   "source": [
    "### Now discuss your answer with your peers"
   ]
  },
  {
   "cell_type": "markdown",
   "metadata": {
    "slideshow": {
     "slide_type": "subslide"
    }
   },
   "source": [
    "### Domain Quiz (again)\n",
    "\n",
    "A domain which is used in the analysis of signals and the design of systems is represented by complex numbers of the form:\n",
    "\n",
    "$$\\sigma + j\\omega$$\n",
    "\n",
    "Tell me what domain is this?"
   ]
  },
  {
   "cell_type": "markdown",
   "metadata": {
    "slideshow": {
     "slide_type": "fragment"
    }
   },
   "source": [
    "#### -> Open Poll"
   ]
  },
  {
   "cell_type": "markdown",
   "metadata": {
    "slideshow": {
     "slide_type": "subslide"
    }
   },
   "source": [
    "### Other Domains you will encounter\n",
    "\n",
    "The most commnly used domains used when analysing continuous time signals are the frequency domain ($f$ or $\\omega$) or the Laplace $s$-domain ($s$). \n",
    "\n",
    "Similarly, for discrete-time signals, you may need to transform from the discrete-time domain ($n$) to the frequency domain ($\\hat{\\omega}$￼) or the z-domain ($z$).\n",
    "\n",
    "\n",
    "This section briefly introduces the world of signals and systems in the frequency, s-, and z-domains. More on these domains will follow."
   ]
  },
  {
   "cell_type": "markdown",
   "metadata": {
    "slideshow": {
     "slide_type": "notes"
    }
   },
   "source": [
    "Systems, continuous and discrete, can also be transformed to the frequency and s- and z-domains, respectively. Signals can, in fact, be passed through systems in these alternative domains. When a signal is passed through a system in the frequency domain, for example, the frequency domain output signal can later be returned to the time domain and appear just as if the time- domain version of the system operated on the signal in the time domain.\n"
   ]
  },
  {
   "cell_type": "markdown",
   "metadata": {
    "slideshow": {
     "slide_type": "subslide"
    }
   },
   "source": [
    "Consider the sum of a two-sinusoids signal\n",
    "$$x(t) = \\underbrace {A_1\\cos(2\\pi f_1 t)}_{s_1} + \\underbrace {A_2\\cos(2\\pi f_2 t)}_{s_2}$$"
   ]
  },
  {
   "cell_type": "code",
   "execution_count": null,
   "metadata": {
    "slideshow": {
     "slide_type": "subslide"
    }
   },
   "outputs": [],
   "source": [
    "two_sines"
   ]
  },
  {
   "cell_type": "markdown",
   "metadata": {
    "slideshow": {
     "slide_type": "notes"
    }
   },
   "source": [
    "Matlab code: [two_sines.m](matlab/two_sines.m)"
   ]
  },
  {
   "cell_type": "markdown",
   "metadata": {
    "slideshow": {
     "slide_type": "notes"
    }
   },
   "source": [
    "### Viewing Signals in the Frequency Domain\n",
    "\n",
    "The top waveform plot, denoted $s_1$, is a single sinusoid at frequency $f_1$ and peak amplitude $A_1$. The waveform repeats every period $T_1 = 1/f_1$. The second waveform plot, denoted $s_2$, is a single sinusoid at frequency $f_2 > f_1$ and peak amplitude $A_2 < A_1$. The sum signal, $s_1 + s_2$, in the time domain is a squiggly line (third waveform plot), but the amplitudes and frequencies (periods) of the sinusoids aren’t clear here as they are in the first two plots. The frequency spectrum (bottom plot) reveals that $x(t)$ is composed of just two sinusoids, with both the frequencies and amplitudes discernible.\n",
    "\n",
    "Think about tuning in a radio station. Stations are located at different center frequencies. The stations don’t interfere with one another because they’re separated from each other in the frequency domain. In the frequency spectrum plot, imagine that $f_1$ and $f_2$ are the signals from two radio stations, viewed in the frequency domain. You can design a receiving system to filter $s_1$ from $s_1 + s_2$. The filter is designed to pass $s_1$ and block $s_2$."
   ]
  },
  {
   "cell_type": "markdown",
   "metadata": {
    "slideshow": {
     "slide_type": "subslide"
    }
   },
   "source": [
    "### Fourier Transform\n",
    "\n",
    "We use the *Fourier transform* to move away from the time domain and into the frequency domain. To get back to the time domain, use the *inverse Fourier transform*. We will found out more about these transforms in this module."
   ]
  },
  {
   "cell_type": "markdown",
   "metadata": {
    "slideshow": {
     "slide_type": "subslide"
    }
   },
   "source": [
    "### Laplace and Z-Transform Domains\n",
    "\n",
    "From the time domain to the frequency domain, only one independent variable, $t \\to f$, exists. When a signal is transformed to the *s*-domain, it becomes a function of a complex variable ￼$s=\\sigma + j\\omega$. The two variables (real and imaginary parts) describe a location in the *s*-plane.\n",
    "\n",
    "In addition to visualization properties, the *s*-domain reduces differential equation solving to algebraic manipulation. For discrete-time signals, the *z*-transform accomplishes the same thing, except differential equations are replaced by difference equations."
   ]
  },
  {
   "cell_type": "markdown",
   "metadata": {
    "slideshow": {
     "slide_type": "slide"
    }
   },
   "source": [
    "## Systems Thinking and Systems Design\n",
    "\n",
    "See section **Testing Product Concepts with Behavioral Level Modeling** from Chapter 1 of [SS4D](http://www.dummies.com/store/product/Signals-and-Systems-For-Dummies.productCd-111847581X.html) (pages 18--20) and add some notes to summarize this for yourself.\n",
    "\n",
    "* We will use *behavioural modelling*\n",
    "* We will rely on *abstraction*\n",
    "* We work *top-down*\n",
    "* We make use of *mathematics* and *mathematical software*."
   ]
  },
  {
   "cell_type": "markdown",
   "metadata": {
    "slideshow": {
     "slide_type": "slide"
    }
   },
   "source": [
    "## Familiar Signals and Systems\n",
    "\n",
    "See pages 21-23 of the free sample (Chapter 1) of [SS4D](http://www.dummies.com/store/product/Signals-and-Systems-For-Dummies.productCd-111847581X.html) for notes and details."
   ]
  },
  {
   "cell_type": "markdown",
   "metadata": {
    "slideshow": {
     "slide_type": "slide"
    }
   },
   "source": [
    "## Concluding Example: Some Basic Signal Operations\n",
    "\n",
    "Consider a signal \n",
    "\n",
    "$$x = f(t) = \\left\\{ {\\begin{array}{*{20}{c}}\n",
    "{0\\;:\\;t <  - 1}\\\\\n",
    "{t + 1\\;:\\; - 1 \\le t \\le 1}\\\\\n",
    "{0\\;:\\;t > 1}\n",
    "\\end{array}} \\right.$$\n",
    "\n",
    "Sketch this signal.\n",
    "\n",
    "<pre style=\"border: 2px solid blue\">\n",
    "\n",
    "\n",
    "\n",
    "\n",
    "\n",
    "\n",
    "\n",
    "\n",
    "\n",
    "\n",
    "\n",
    "\n",
    "</pre>"
   ]
  },
  {
   "cell_type": "markdown",
   "metadata": {
    "slideshow": {
     "slide_type": "slide"
    }
   },
   "source": [
    "### Problem\n",
    "\n",
    "Think about the effect on this signal of applying the following basic signal operations:\n",
    "\n",
    "* $2 f(t)$\n",
    "* $0.5 f(t)$\n",
    "* $f(2t)$\n",
    "* $f(0.5 t)$\n",
    "* $-f(t)$\n",
    "* $f(-t)$\n",
    "* $-f(-t)$\n",
    "* $f(t - 1)$\n",
    "* $f(t + 1)$\n",
    "* $-2f(-t+2)$\n",
    "\n",
    "We will work through these after the break together then you will do some exercises based on [Chapter 1 of Karris](http://site.ebrary.com/lib/swansea/reader.action?docID=10547416&ppg=17)."
   ]
  },
  {
   "cell_type": "markdown",
   "metadata": {
    "slideshow": {
     "slide_type": "slide"
    }
   },
   "source": [
    "## Break\n",
    "\n"
   ]
  }
 ],
 "metadata": {
  "celltoolbar": "Slideshow",
  "kernelspec": {
   "display_name": "Matlab",
   "language": "matlab",
   "name": "matlab"
  },
  "language_info": {
   "codemirror_mode": "octave",
   "file_extension": ".m",
   "help_links": [
    {
     "text": "MetaKernel Magics",
     "url": "https://github.com/calysto/metakernel/blob/master/metakernel/magics/README.md"
    }
   ],
   "mimetype": "text/x-octave",
   "name": "matlab",
   "version": "0.15.0"
  }
 },
 "nbformat": 4,
 "nbformat_minor": 1
}
