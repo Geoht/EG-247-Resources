{
 "cells": [
  {
   "cell_type": "markdown",
   "metadata": {
    "slideshow": {
     "slide_type": "slide"
    }
   },
   "source": [
    "# EG-247 Signals and Systems\n",
    "\n",
    "Dr Chris Jobling ([c.p.jobling@swansea.ac.uk](mailto:c.p.jobling@swansea.ac.uk))<br />Room B206, Engineering East<br />Office Hours: To Be Confirmed.\n",
    "\n",
    "You can view the notes for this presentation in [HTML](http://nbviewer.ipython.org/github/cpjobling/EG-247-Resources/blob/master/introduction/Introduction.ipynb) and [PDF](http://cpjobling.github.io/EG-247-Resources/introduction/Introduction.pdf) and as a handout in the OneNote Class Notebook. \n",
    "\n",
    "The source code of this presentation is available as an interactive [Jupyter notebook](http://jupyter.org/) from GitHub: <https://github.com/cpjobling/EG-247-Resources/introduction/Introduction.ipynb>. \n",
    "\n",
    "The [EG-247 Resources](https://github.com/cpjobling/EG-247-Resources) also contains the source code for all the Matlab/Simulink examples and the Laboratory Exercises."
   ]
  },
  {
   "cell_type": "markdown",
   "metadata": {
    "slideshow": {
     "slide_type": "slide"
    }
   },
   "source": [
    "## Agenda"
   ]
  },
  {
   "cell_type": "markdown",
   "metadata": {
    "slideshow": {
     "slide_type": "fragment"
    }
   },
   "source": [
    "* <h3>Introduction to the Module</h3>"
   ]
  },
  {
   "cell_type": "markdown",
   "metadata": {
    "slideshow": {
     "slide_type": "fragment"
    }
   },
   "source": [
    "* <h3>OneNote Class Notebook</h3>"
   ]
  },
  {
   "cell_type": "markdown",
   "metadata": {
    "slideshow": {
     "slide_type": "fragment"
    }
   },
   "source": [
    "* <h3>Activities in Week 1</h3>"
   ]
  },
  {
   "cell_type": "markdown",
   "metadata": {
    "slideshow": {
     "slide_type": "fragment"
    }
   },
   "source": [
    "* <h3>Introducing Signals and Systems</h3>"
   ]
  },
  {
   "cell_type": "markdown",
   "metadata": {
    "slideshow": {
     "slide_type": "fragment"
    }
   },
   "source": [
    "* <h3>Preparing for Second Session</h3>"
   ]
  },
  {
   "cell_type": "markdown",
   "metadata": {
    "slideshow": {
     "slide_type": "slide"
    }
   },
   "source": [
    "## Introduction to the Module\n",
    "\n",
    "Refer to the Blackboard site\n",
    "\n",
    "* The Approach\n",
    "* The Syllabus\n",
    "* The Learning Outcomes\n",
    "* The Reading List\n",
    "* The Assessment"
   ]
  },
  {
   "cell_type": "markdown",
   "metadata": {
    "slideshow": {
     "slide_type": "slide"
    }
   },
   "source": [
    "## Activities in Week 1\n",
    "\n",
    "* *Session 1*:\n",
    "This Introduction based on Chapter 1 of Signals and Systems for Dummies (SS4D) by Mark Wickert [available as a free sample](http://www.dummies.com/store/product/Signals-and-Systems-For-Dummies.productCd-111847581X.html)\n",
    "* *Session 2*: Elementary Signals (Thursday 1:00 pm, Faraday J) based on Chapter 1 of Required Text [Signals and Systems with Matlab Computing and Simulink Modeling](http://site.ebrary.com/lib/swansea/docDetail.action?docID=10547416) by Stephen Karris (available as an e-Book)\n",
    "* *Lab 1*: Matlab for Signals and Systems (Week on Friday, 13th February, 9-11 am, PC Lab 002 Digitial Technium)"
   ]
  },
  {
   "cell_type": "markdown",
   "metadata": {
    "slideshow": {
     "slide_type": "slide"
    }
   },
   "source": [
    "## OneNote Class Notebook"
   ]
  },
  {
   "cell_type": "markdown",
   "metadata": {
    "slideshow": {
     "slide_type": "slide"
    }
   },
   "source": [
    "## Introducing Signals and Systems"
   ]
  },
  {
   "cell_type": "markdown",
   "metadata": {
    "slideshow": {
     "slide_type": "slide"
    }
   },
   "source": [
    "## Continuous-time signals\n",
    "\n",
    "Continuous signals are representated mathematically by functions which vary continuously with time. Sinusoidal signals (e.g. AC) are pretty fundamental in Electrical Engineering. The mathematical model of a sinusoidal signal is $x(t) = A \\cos (2\\pi f_0 t - \\phi)$. \n",
    "\n",
    "* What is $A$?\n",
    "* What is $f_0$?\n",
    "* What is $\\phi$?\n",
    "* What is the period $T_0$ of this signal?\n",
    "\n",
    "<pre style=\"border: 2px solid blue\">\n",
    "\n",
    "\n",
    "\n",
    "\n",
    "\n",
    "</pre>"
   ]
  },
  {
   "cell_type": "markdown",
   "metadata": {
    "slideshow": {
     "slide_type": "subslide"
    }
   },
   "source": [
    "### Gaining insight using computers\n",
    "\n",
    "To help us answer these questions, let's use our Mathematical tools to plot a signal like this and explore it. The example we will use is from *Signals and Systems for Dummies* (SS4D: page 12): \n",
    "\n",
    "$$3\\cos(2\\pi\\cdot 2t - 3\\pi/4)$$"
   ]
  },
  {
   "cell_type": "markdown",
   "metadata": {
    "slideshow": {
     "slide_type": "subslide"
    }
   },
   "source": [
    "### Wolfram|Alpha\n",
    "\n",
    "Here's the link: <http://www.wolframalpha.com>\n",
    "\n",
    "Paste this into the search box\n",
    "\n",
    "    plot 3 cos(2 pi 2 t - 3 pi/4) \n"
   ]
  },
  {
   "cell_type": "markdown",
   "metadata": {
    "slideshow": {
     "slide_type": "subslide"
    }
   },
   "source": [
    "### Matlab\n",
    "\n",
    "In Matlab we would need to tackle this slightly differently. Here's the code:\n",
    "\n",
    "```\n",
    "t = linspace(0, 1, 100);\n",
    "x = 3 * cos(2*pi*2*t - 3*pi/4);\n",
    "plot(t,x)\n",
    "title('A Sinusoidal Signal')\n",
    "xlabel('Time t (s)')\n",
    "ylabel('Amplitude')\n",
    "grid\n",
    "```\n",
    "\n",
    "(I will run this code during the live session and we'll import the result into the shared white board.)"
   ]
  },
  {
   "cell_type": "markdown",
   "metadata": {
    "slideshow": {
     "slide_type": "subslide"
    }
   },
   "source": [
    "### IPython and PyLab\n",
    "\n",
    "We can even use [this document](files/Introduction.ipynb) (which is an [Jupyter Notebook](http://ipython.org/notebook.html)) to compute the sinewave directly.\n",
    "\n",
    "First we have to set things up."
   ]
  },
  {
   "cell_type": "code",
   "execution_count": 4,
   "metadata": {
    "collapsed": false,
    "slideshow": {
     "slide_type": "fragment"
    }
   },
   "outputs": [],
   "source": [
    "%matplotlib inline\n",
    "from pylab import *"
   ]
  },
  {
   "cell_type": "markdown",
   "metadata": {
    "slideshow": {
     "slide_type": "fragment"
    }
   },
   "source": [
    "Then we run the plot. The instructions are similar to Matlab:"
   ]
  },
  {
   "cell_type": "code",
   "execution_count": 5,
   "metadata": {
    "collapsed": false,
    "slideshow": {
     "slide_type": "fragment"
    }
   },
   "outputs": [
    {
     "data": {
      "image/png": "[encoded data removed]",
      "text/plain": [
       "<matplotlib.figure.Figure at 0x107fe36a0>"
      ]
     },
     "metadata": {},
     "output_type": "display_data"
    }
   ],
   "source": [
    "t = np.linspace(0, 1, 100)\n",
    "x = 3 * np.cos(2*pi * 3*t - 3*pi/4)\n",
    "\n",
    "plot(t, x)\n",
    "title('A Sinusoidal Signal ')\n",
    "xlabel('Time t (s)')\n",
    "ylabel('Amplitude')\n",
    "grid()"
   ]
  },
  {
   "cell_type": "markdown",
   "metadata": {
    "slideshow": {
     "slide_type": "subslide"
    }
   },
   "source": [
    "### Returning to the Question\n",
    "\n",
    "For the mathematical model of a sinusoidal signal $x(t) = A \\cos (2\\pi f_0 t - \\phi)$ use your insight to answer these questions again: \n",
    "\n",
    "* What is $A$?\n",
    "* What is $f_0$?\n",
    "* What is $\\phi$?\n",
    "* What is the period $T_0$ of this signal?\n",
    "\n",
    "Also, give the actual values, with units, for the variables used in the example $3\\cos(2\\pi\\cdot 2t - 3\\pi/4)$.\n",
    "\n",
    "<pre style=\"border: 2px solid blue\">\n",
    "\n",
    "\n",
    "\n",
    "\n",
    "\n",
    "</pre>"
   ]
  },
  {
   "cell_type": "markdown",
   "metadata": {
    "slideshow": {
     "slide_type": "notes"
    }
   },
   "source": [
    "### Notes\n",
    "\n",
    "* In communications and electronic signal processing, the frequency of sinusoidal signals us usually given in *cycles per second* or Hz. \n",
    "* In mathematics, the frequency is always expressed in *radians per second*. \n",
    "* In some courses, including later in this one and in EG-243 Control Systems, the frequency $2\\pi f_0$ is often called the *natural frequency* and is usually written $\\omega_n$."
   ]
  },
  {
   "cell_type": "markdown",
   "metadata": {
    "slideshow": {
     "slide_type": "subslide"
    }
   },
   "source": [
    "### Exercises\n",
    "\n",
    "* Use any or all of computing tools that you have access to to explore other sinusoids. Change the values of the variables and explain what happens. \n",
    "* Try adding sinusoids of different amplitudes and different frequencies together and see what happens.\n"
   ]
  },
  {
   "cell_type": "markdown",
   "metadata": {
    "slideshow": {
     "slide_type": "slide"
    }
   },
   "source": [
    "## Continuous-time Systems\n",
    "\n",
    "Systems operate on signals. In mathematical terms, a *system* is a function or an *operator*, $H\\{\\}$ that maps the input signal $x(t)$ to an output signal $y(t)$. \n",
    "\n",
    "Mathematically we would write this:\n",
    "\n",
    "$$y(t) = H\\{x(t)\\}.$$"
   ]
  },
  {
   "cell_type": "markdown",
   "metadata": {
    "slideshow": {
     "slide_type": "subslide"
    }
   },
   "source": [
    "### Example\n",
    "\n",
    "An example of a continuous-time system is an electronic amplifier with a gain of 5 and level shift of 2: $y(t) = H\\{x(t)\\} = 5x(t) + 2$.\n",
    "\n",
    "In this course, we will model such systems as block diagram models in Simulink."
   ]
  },
  {
   "cell_type": "markdown",
   "metadata": {
    "slideshow": {
     "slide_type": "subslide"
    }
   },
   "source": [
    "### Block diagram model in Simulink\n",
    "\n",
    "<img src=\"files/pictures/css.png\">\n",
    "\n",
    "The Similink code can be downloaded from this file [gain_level_shift.slx](files/matlab/gain_level_shift.slx)."
   ]
  },
  {
   "cell_type": "markdown",
   "metadata": {
    "slideshow": {
     "slide_type": "subslide"
    }
   },
   "source": [
    "## Demonstration\n",
    "\n",
    "If the input to this system is replaced with a sinewave $x(t)=\\sin(t)$ and the output with a scope, what do you think the output will be?\n",
    "\n",
    "<pre style=\"border: 2px solid blue\">\n",
    "\n",
    "\n",
    "\n",
    "\n",
    "\n",
    "</pre>\n"
   ]
  },
  {
   "cell_type": "markdown",
   "metadata": {
    "slideshow": {
     "slide_type": "slide"
    }
   },
   "source": [
    "## Discrete-time Signals\n",
    "\n",
    "Disrete-time signals are a function of a time index $n$. A discrete-time signal $x[n]$, unlike a continuous-time signal $x(t)$, is only defined at integer values of the independent variable $n$. This means that the signal is only active at specific periods of time. Discrete-time signals can be stored in computer memory."
   ]
  },
  {
   "cell_type": "markdown",
   "metadata": {
    "slideshow": {
     "slide_type": "subslide"
    }
   },
   "source": [
    "### Example\n",
    "\n",
    "Consider the following simple signal, a pulse sequence:$$x[n] = \\left\\{ {\\begin{array}{*{20}{c}}\n",
    "{5,\\;0 \\le n < 10}\\\\\n",
    "{0,\\;{\\rm{otherwise}}\\quad \\;}\n",
    "\\end{array}} \\right.$$\n",
    "We can plot this in IPython and Matlab as a *stem plot*"
   ]
  },
  {
   "cell_type": "markdown",
   "metadata": {
    "slideshow": {
     "slide_type": "subslide"
    }
   },
   "source": [
    "First define the function $x[n]$"
   ]
  },
  {
   "cell_type": "code",
   "execution_count": 6,
   "metadata": {
    "collapsed": true
   },
   "outputs": [],
   "source": [
    "def x(n):\n",
    "    if n < 0 or n >= 10:\n",
    "        return 0\n",
    "    else:\n",
    "        return 5"
   ]
  },
  {
   "cell_type": "markdown",
   "metadata": {
    "slideshow": {
     "slide_type": "subslide"
    }
   },
   "source": [
    "Then set up $n$ and reserve some space for storing $x[n]$"
   ]
  },
  {
   "cell_type": "code",
   "execution_count": 7,
   "metadata": {
    "collapsed": false
   },
   "outputs": [],
   "source": [
    "n = np.arange(-15,18)\n",
    "xn = zeros(size(n))"
   ]
  },
  {
   "cell_type": "markdown",
   "metadata": {
    "slideshow": {
     "slide_type": "subslide"
    }
   },
   "source": [
    "then compute the signal"
   ]
  },
  {
   "cell_type": "code",
   "execution_count": 8,
   "metadata": {
    "collapsed": true
   },
   "outputs": [],
   "source": [
    "for i in range(0, size(n)):\n",
    "    xn[i] = x(n[i])"
   ]
  },
  {
   "cell_type": "markdown",
   "metadata": {
    "slideshow": {
     "slide_type": "subslide"
    }
   },
   "source": [
    "Finally, plot the signal as a *stem* (or *lollipop*) plot"
   ]
  },
  {
   "cell_type": "code",
   "execution_count": 9,
   "metadata": {
    "collapsed": false
   },
   "outputs": [
    {
     "data": {
      "image/png": "[encoded data removed]",
      "text/plain": [
       "<matplotlib.figure.Figure at 0x107b98b38>"
      ]
     },
     "metadata": {},
     "output_type": "display_data"
    }
   ],
   "source": [
    "stem(n,xn)\n",
    "axis([-15,18,0,6])\n",
    "title('Stem Plot for a Discrete Signal')\n",
    "xlabel('Sample n')\n",
    "ylabel('Signal x[n]')\n",
    "grid()"
   ]
  },
  {
   "cell_type": "markdown",
   "metadata": {
    "slideshow": {
     "slide_type": "subslide"
    }
   },
   "source": [
    "## In Matlab\n",
    "\n",
    "The Matlab version is similar and is given in script file [discrete.m](files/matlab/discrete.m) which uses function [x.m](files/matlab/x.m)."
   ]
  },
  {
   "cell_type": "markdown",
   "metadata": {
    "slideshow": {
     "slide_type": "subslide"
    }
   },
   "source": [
    "### Exercise\n",
    "\n",
    "Draw a digital signal that represents your student number in some way. For example if your number was 765443, then you could generate a signal for which $x[n] = 0$ when $n < 7$, then $x[n] = 7$ for $7$ periods, then $x[n] = 6$ for the next 6 periods, $x[n] = 5$ for 5 periods, and so on. The signal should return to 0 when the last digit has been transmitted. \n",
    "<pre style=\"border: 2px solid blue;\">\n",
    "\n",
    "\n",
    "\n",
    "\n",
    "\n",
    "\n",
    "\n",
    "\n",
    "\n",
    "</pre>\n"
   ]
  },
  {
   "cell_type": "markdown",
   "metadata": {
    "slideshow": {
     "slide_type": "subslide"
    }
   },
   "source": [
    "To plot this on a computer you would need to transcribe $x[n]$ into an array and then use the \"lollipop\" plot to plot the data. You could just create the array by hand, but you could also create a Matlab or Python function if you would like a challenge."
   ]
  },
  {
   "cell_type": "markdown",
   "metadata": {
    "slideshow": {
     "slide_type": "slide"
    }
   },
   "source": [
    "## Discrete-time Systems\n",
    "\n",
    "A discrete-time system, like its continuous-time counterpart, is a function, $H\\{\\}$, that maps the input $x[n]$￼ ￼to the output $y[n] = H\\{x[n]\\}$. An example of a discrete-time system is the *two-tap* filter:\n",
    "\n",
    "$$y[n] = H\\{x[n]\\} = \\frac{3}{4}x[n] + \\frac{1}{4}x[n-1]$$\n",
    "\n",
    "The term *tap* denotes that output at time instant $n$ is formed from two time instants of the input, $n$ and $n – 1$. Check out a block diagram of a two-tap filter system:\n",
    "\n",
    "<img src=\"files/pictures/ds.png\" width=\"50%\" />\n",
    "\n",
    "This system is available as a Simulink model [discrete_system.slx](files/matlab/discrete_system.slx)"
   ]
  },
  {
   "cell_type": "markdown",
   "metadata": {
    "slideshow": {
     "slide_type": "notes"
    }
   },
   "source": [
    "In words, this system scales the present input by 3/4 and adds it to the past value of the input scaled by 1/4. The notion of the past input comes about because ￼$x[n - 1]$ is lagging one sample value behind ￼$x[n]$. The term *filter* describes the output as an *averaging* of the present input and the previous input. *Averaging* is a form of filtering."
   ]
  },
  {
   "cell_type": "markdown",
   "metadata": {
    "slideshow": {
     "slide_type": "slide"
    }
   },
   "source": [
    "## Signal Classifications"
   ]
  },
  {
   "cell_type": "markdown",
   "metadata": {
    "slideshow": {
     "slide_type": "subslide"
    }
   },
   "source": [
    "### Periodic\n",
    "\n",
    "Signals that repeat over and over are said to be *periodic*. In mathematical terms, a signal is periodic if:\n",
    "\n",
    "* *Continuous signal* $x(t + T) = x(t)$\n",
    "* *Discrete signal* $x[n + N] = x[n]$\n",
    "\n",
    "￼￼￼￼￼￼￼￼￼￼￼￼￼￼￼￼￼￼￼￼￼￼￼￼￼￼￼￼￼￼￼￼￼￼￼￼￼￼￼￼￼￼￼￼￼￼￼￼￼￼￼￼￼￼The smallest $T$ or $N$ for which the equality holds is the *signal period*."
   ]
  },
  {
   "cell_type": "markdown",
   "metadata": {
    "slideshow": {
     "slide_type": "notes"
    }
   },
   "source": [
    "The sinusoidal signal we saw earlier is periodic because of the $\\mod 2\\pi$ property of cosines. The signal of the sinusoid has period 0.5 seconds (s), which turns out to be the reciprocal of the frequency ￼ $1/f_0$￼ ￼ Hz."
   ]
  },
  {
   "cell_type": "markdown",
   "metadata": {
    "slideshow": {
     "slide_type": "subslide"
    }
   },
   "source": [
    "![A square wave](files/pictures/squarew.png)"
   ]
  },
  {
   "cell_type": "markdown",
   "metadata": {
    "collapsed": false,
    "slideshow": {
     "slide_type": "notes"
    }
   },
   "source": [
    "This Square wave is a 5 Hz waveform sampled at 500 Hz for 1 second"
   ]
  },
  {
   "cell_type": "markdown",
   "metadata": {
    "slideshow": {
     "slide_type": "fragment"
    }
   },
   "source": [
    "$T = $?\n",
    "\n",
    "<pre style=\"border: 2px solid blue\">\n",
    "\n",
    "\n",
    "</pre>"
   ]
  },
  {
   "cell_type": "markdown",
   "metadata": {
    "slideshow": {
     "slide_type": "subslide"
    }
   },
   "source": [
    "### Question\n",
    "\n",
    "For the example we started with $x(t) = 2 \\cos (2\\pi . 2t + 3\\pi/4)$. Say we sample the cosine wave at 20 times the frequency, what would the sampling period be and what would $N$ be for the sampled waveform?\n",
    "\n",
    "\n",
    "\n",
    "#### Your Answer\n",
    "\n",
    "<pre style=\"border: 2px solid blue\">\n",
    "\n",
    "\n",
    "\n",
    "\n",
    "</pre>"
   ]
  },
  {
   "cell_type": "markdown",
   "metadata": {
    "slideshow": {
     "slide_type": "subslide"
    }
   },
   "source": [
    "### Aperiodic \n",
    "\n",
    "Signals that are *deterministic* (completely determined functions of time) but not periodic are known as *aperiodic*. Point of view matters. If a signal occurs infrequently, you may view it as aperiodic. \n",
    "\n",
    "![An aperiodic signal](files/pictures/pulse.png)\n",
    "\n"
   ]
  },
  {
   "cell_type": "markdown",
   "metadata": {
    "slideshow": {
     "slide_type": "notes"
    }
   },
   "source": [
    "This is how we generate an aperiodic rectangular pulse of duration $\\tau$ in Matlab:\n",
    "\n",
    "```\n",
    "%% An aperiodic function\n",
    "tau = 1\n",
    "x = linspace(-1,5,1000);\n",
    "y = rectangularPulse(0,tau,x);\n",
    "plot(x,y)\n",
    "ylim([-0.2,1.2])\n",
    "grid\n",
    "title('An Aperiodic Signal')\n",
    "xlabel('Time t (s)')\n",
    "ylabel('Amplitude'\n",
    "```\n",
    "\n",
    "See [aperiodic.m](files/matlab/aperiodic.m)"
   ]
  },
  {
   "cell_type": "markdown",
   "metadata": {
    "slideshow": {
     "slide_type": "subslide"
    }
   },
   "source": [
    "### Random\n",
    "\n",
    "A signal is random if one or more signal attributes takes on unpredictable\n",
    "values in a probability sense.\n",
    "￼￼￼￼￼￼￼￼￼￼￼￼￼￼￼￼￼￼￼￼￼\n",
    "Engineers working with communication receivers are concerned with random\n",
    "signals, especially noise.\n",
    "\n",
    "![A random signal](files/pictures/random.png)\n"
   ]
  },
  {
   "cell_type": "markdown",
   "metadata": {
    "slideshow": {
     "slide_type": "subslide"
    }
   },
   "source": [
    "![A random signal](files/pictures/random.png)\n"
   ]
  },
  {
   "cell_type": "markdown",
   "metadata": {
    "slideshow": {
     "slide_type": "notes"
    }
   },
   "source": [
    "*Matlab*\n",
    "\n",
    "```\n",
    "%% Plot a Random Signal\n",
    "plot(0.5 + 0.25 * rand(100,1))\n",
    "ylim([0,1])\n",
    "grid\n",
    "title('Random Signal')\n",
    "xlabel('Time t (s)')\n",
    "ylabel('Amplitude')\n",
    "```\n",
    "\n",
    "\n",
    "See: [random.m](https://github.com/cpjobling/EG-247-Resources/blob/master/introduction/matlab/random.m)\n"
   ]
  },
  {
   "cell_type": "markdown",
   "metadata": {
    "slideshow": {
     "slide_type": "slide"
    }
   },
   "source": [
    "## Domains for Signals and Systems\n",
    "\n",
    "Most of the signals we encounter on a daily basis reside in the time domain. They’re functions of independent variable $t$ or $n$. But sometimes when you’re working with continuous-time signals, you may need to transform away from the time domain ($t$) to either the frequency domain ($f$ or $\\omega$) or the [Laplace] $s$-domain ($s$). Similarly, for discrete-time signals, you may need to transform from the discrete-time domain ($n$) to the frequency domain ($\\hat{\\omega}$￼) or the z-domain ($z$).\n",
    "\n",
    "Systems, continuous and discrete, can also be transformed to the frequency and s- and z-domains, respectively. Signals can, in fact, be passed through systems in these alternative domains. When a signal is passed through a system in the frequency domain, for example, the frequency domain output signal can later be returned to the time domain and appear just as if the time- domain version of the system operated on the signal in the time domain.\n",
    "\n",
    "This section briefly introduces the world of signals and systems in the frequency, s-, and z-domains. More on these domains will follow."
   ]
  },
  {
   "cell_type": "markdown",
   "metadata": {
    "slideshow": {
     "slide_type": "subslide"
    }
   },
   "source": [
    "Consider the sum of a two-sinusoids signal\n",
    "$$x(t) = \\underbrace {A_1\\cos(2\\pi f_1 t)}_{s_1} + \\underbrace {A_2\\cos(2\\pi f_2 t)}_{s_2}$$\n",
    "\n",
    "<img src=\"files/pictures/twosines.png\">\n",
    "\n",
    "Matlab code: [two_sines.m](files/matlab/two_sines.m)\n",
    "\n",
    "(This example relies on [arrow.m](http://www.mathworks.com/matlabcentral/fileexchange/278-arrow-m) by Erik Johnson available from the Matlab File Exchange.)"
   ]
  },
  {
   "cell_type": "markdown",
   "metadata": {
    "slideshow": {
     "slide_type": "subslide"
    }
   },
   "source": [
    "### Viewing Signals in the Frequency Domain"
   ]
  },
  {
   "cell_type": "markdown",
   "metadata": {
    "slideshow": {
     "slide_type": "notes"
    }
   },
   "source": [
    "The top waveform plot, denoted $s_1$, is a single sinusoid at frequency $f_1$ and peak amplitude $A_1$. The waveform repeats every period $T_1 = 1/f_1$. The second waveform plot, denoted $s_2$, is a single sinusoid at frequency $f_2 > f_1$ and peak amplitude $A_2 < A_1$. The sum signal, $s_1 + s_2$, in the time domain is a squiggly line (third waveform plot), but the amplitudes and frequencies (periods) of the sinusoids aren’t clear here as they are in the first two plots. The frequency spectrum (bottom plot) reveals that $x(t)$ is composed of just two sinusoids, with both the frequencies and amplitudes discernible.\n",
    "\n",
    "Think about tuning in a radio station. Stations are located at different center frequencies. The stations don’t interfere with one another because they’re separated from each other in the frequency domain. In the frequency spectrum plot, imagine that $f_1$ and $f_2$ are the signals from two radio stations, viewed in the frequency domain. You can design a receiving system to filter $s_1$ from $s_1 + s_2$. The filter is designed to pass $s_1$ and block $s_2$."
   ]
  },
  {
   "cell_type": "markdown",
   "metadata": {
    "slideshow": {
     "slide_type": "subslide"
    }
   },
   "source": [
    "### Fourier Transform\n",
    "\n",
    "We use the *Fourier transform* to move away from the time domain and into the frequency domain. To get back to the time domain, use the *inverse Fourier transform*. We will found out more about these transforms in this module."
   ]
  },
  {
   "cell_type": "markdown",
   "metadata": {
    "slideshow": {
     "slide_type": "subslide"
    }
   },
   "source": [
    "### Laplace and Z-Transform Domains\n",
    "\n",
    "From the time domain to the frequency domain, only one independent variable, $t \\to f$, exists. When a signal is transformed to the *s*-domain, it becomes a function of a complex variable ￼$s=\\sigma + j\\omega$. The two variables (real and imaginary parts) describe a location in the *s*-plane.\n",
    "\n",
    "In addition to visualization properties, the *s*-domain reduces differential equation solving to algebraic manipulation. For discrete-time signals, the *z*-transform accomplishes the same thing, except differential equations are replaced by difference equations."
   ]
  },
  {
   "cell_type": "markdown",
   "metadata": {
    "slideshow": {
     "slide_type": "slide"
    }
   },
   "source": [
    "## Systems Thinking and Systems Design\n",
    "\n",
    "See section **Testing Product Concepts with Behavioral Level Modeling** from Chapter 1 of SS4D (pages 18--20) and summarize this for yourself.\n",
    "\n",
    "* We will use *behavioural modelling*\n",
    "* We will rely on *abstraction*\n",
    "* We work *top-down*\n",
    "* We make use of *mathematics* and *mathematical software*."
   ]
  },
  {
   "cell_type": "markdown",
   "metadata": {
    "slideshow": {
     "slide_type": "slide"
    }
   },
   "source": [
    "## Familiar Signals and Systems\n",
    "\n",
    "See Chapter 1 of SS4D for notes and details."
   ]
  },
  {
   "cell_type": "markdown",
   "metadata": {
    "slideshow": {
     "slide_type": "subslide"
    }
   },
   "source": [
    "### MP3 Player\n",
    "\n",
    "<img src=\"files/pictures/mp3.png\">"
   ]
  },
  {
   "cell_type": "markdown",
   "metadata": {
    "slideshow": {
     "slide_type": "subslide"
    }
   },
   "source": [
    "### Smart Phone\n",
    "\n",
    "<img src=\"files/pictures/smartphone.png\">"
   ]
  },
  {
   "cell_type": "markdown",
   "metadata": {
    "slideshow": {
     "slide_type": "subslide"
    }
   },
   "source": [
    "### Cruise Control (a Control System)\n",
    "\n",
    "<img src=\"files/pictures/cruisecontrol.png\">"
   ]
  },
  {
   "cell_type": "markdown",
   "metadata": {
    "slideshow": {
     "slide_type": "slide"
    }
   },
   "source": [
    "## Concluding Example: Some Basic Signal Operations\n",
    "\n",
    "Consider a signal \n",
    "\n",
    "$$x = f(t) = \\left\\{ {\\begin{array}{*{20}{c}}\n",
    "{0\\;:\\;t <  - 1}\\\\\n",
    "{t + 1\\;:\\; - 1 \\le t \\le 1}\\\\\n",
    "{0\\;:\\;t > 1}\n",
    "\\end{array}} \\right.$$\n",
    "\n",
    "Sketch this signal.\n",
    "\n",
    "<pre style=\"border: 2px solid blue\">\n",
    "\n",
    "\n",
    "\n",
    "\n",
    "\n",
    "\n",
    "\n",
    "\n",
    "\n",
    "</pre>\n",
    "\n"
   ]
  },
  {
   "cell_type": "markdown",
   "metadata": {
    "slideshow": {
     "slide_type": "slide"
    }
   },
   "source": [
    "### Homework\n",
    "\n",
    "Think about the effect on this signal of applying the following basic signal operations:\n",
    "\n",
    "* $2 f(t)$\n",
    "* $0.5 f(t)$\n",
    "* $f(2t)$\n",
    "* $f(0.5 t)$\n",
    "* $-f(t)$\n",
    "* $f(-t)$\n",
    "* $-f(-t)$\n",
    "* $f(t - 1)$\n",
    "* $f(t + 1)$\n",
    "* $-2f(-t+2)$"
   ]
  },
  {
   "cell_type": "markdown",
   "metadata": {
    "slideshow": {
     "slide_type": "slide"
    }
   },
   "source": [
    "## Preparing for Second Session\n",
    "\n",
    "In the second session we will work through the concluding exercise then do some exercises based on Chapter 1 of Karris."
   ]
  },
  {
   "cell_type": "markdown",
   "metadata": {
    "slideshow": {
     "slide_type": "slide"
    }
   },
   "source": [
    "## Running Matlab in IPython Notebook"
   ]
  },
  {
   "cell_type": "markdown",
   "metadata": {},
   "source": [
    "**This may not work on Windows!**\n",
    "\n",
    "You will need to istall Matlab, Python and Jupyter and the [Python-Matlab-Bridge](http://arokem.github.io/python-matlab-bridge/). This is out of scope of this session."
   ]
  },
  {
   "cell_type": "code",
   "execution_count": 5,
   "metadata": {
    "collapsed": false
   },
   "outputs": [],
   "source": [
    "import os\n",
    "import pymatbridge as pymat"
   ]
  },
  {
   "cell_type": "code",
   "execution_count": 6,
   "metadata": {
    "collapsed": true
   },
   "outputs": [
    {
     "name": "stdout",
     "output_type": "stream",
     "text": [
      "Starting MATLAB on ZMQ socket ipc:///tmp/pymatbridge-005b15c4-f04a-4a6d-b8ae-001323ce3583\n",
      "Send 'exit' command to kill the server\n",
      "............................................................MATLAB session timed out after 60 seconds\n"
     ]
    },
    {
     "ename": "ValueError",
     "evalue": "MATLAB failed to start",
     "output_type": "error",
     "traceback": [
      "\u001b[0;31m---------------------------------------------------------------------------\u001b[0m",
      "\u001b[0;31mValueError\u001b[0m                                Traceback (most recent call last)",
      "\u001b[0;32m<ipython-input-6-6c1a7fbfed7a>\u001b[0m in \u001b[0;36m<module>\u001b[0;34m()\u001b[0m\n\u001b[1;32m      1\u001b[0m \u001b[0mip\u001b[0m \u001b[0;34m=\u001b[0m \u001b[0mget_ipython\u001b[0m\u001b[0;34m(\u001b[0m\u001b[0;34m)\u001b[0m\u001b[0;34m\u001b[0m\u001b[0m\n\u001b[0;32m----> 2\u001b[0;31m \u001b[0mpymat\u001b[0m\u001b[0;34m.\u001b[0m\u001b[0mload_ipython_extension\u001b[0m\u001b[0;34m(\u001b[0m\u001b[0mip\u001b[0m\u001b[0;34m)\u001b[0m\u001b[0;34m\u001b[0m\u001b[0m\n\u001b[0m",
      "\u001b[0;32m/Users/eechris/anaconda/envs/eg-247/lib/python3.5/site-packages/pymatbridge/matlab_magic.py\u001b[0m in \u001b[0;36mload_ipython_extension\u001b[0;34m(ip, **kwargs)\u001b[0m\n\u001b[1;32m    208\u001b[0m     \u001b[0;32mglobal\u001b[0m \u001b[0m_loaded\u001b[0m\u001b[0;34m\u001b[0m\u001b[0m\n\u001b[1;32m    209\u001b[0m     \u001b[0;32mif\u001b[0m \u001b[0;32mnot\u001b[0m \u001b[0m_loaded\u001b[0m\u001b[0;34m:\u001b[0m\u001b[0;34m\u001b[0m\u001b[0m\n\u001b[0;32m--> 210\u001b[0;31m         \u001b[0mip\u001b[0m\u001b[0;34m.\u001b[0m\u001b[0mregister_magics\u001b[0m\u001b[0;34m(\u001b[0m\u001b[0mMatlabMagics\u001b[0m\u001b[0;34m(\u001b[0m\u001b[0mip\u001b[0m\u001b[0;34m,\u001b[0m \u001b[0;34m**\u001b[0m\u001b[0mkwargs\u001b[0m\u001b[0;34m)\u001b[0m\u001b[0;34m)\u001b[0m\u001b[0;34m\u001b[0m\u001b[0m\n\u001b[0m\u001b[1;32m    211\u001b[0m         \u001b[0m_loaded\u001b[0m \u001b[0;34m=\u001b[0m \u001b[0;32mTrue\u001b[0m\u001b[0;34m\u001b[0m\u001b[0m\n\u001b[1;32m    212\u001b[0m \u001b[0;34m\u001b[0m\u001b[0m\n",
      "\u001b[0;32m/Users/eechris/anaconda/envs/eg-247/lib/python3.5/site-packages/pymatbridge/matlab_magic.py\u001b[0m in \u001b[0;36m__init__\u001b[0;34m(self, shell, matlab, maxtime, pyconverter)\u001b[0m\n\u001b[1;32m     78\u001b[0m         \u001b[0;32melse\u001b[0m\u001b[0;34m:\u001b[0m\u001b[0;34m\u001b[0m\u001b[0m\n\u001b[1;32m     79\u001b[0m             \u001b[0mself\u001b[0m\u001b[0;34m.\u001b[0m\u001b[0mMatlab\u001b[0m \u001b[0;34m=\u001b[0m \u001b[0mpymat\u001b[0m\u001b[0;34m.\u001b[0m\u001b[0mMatlab\u001b[0m\u001b[0;34m(\u001b[0m\u001b[0mmatlab\u001b[0m\u001b[0;34m,\u001b[0m \u001b[0mmaxtime\u001b[0m\u001b[0;34m=\u001b[0m\u001b[0mmaxtime\u001b[0m\u001b[0;34m)\u001b[0m\u001b[0;34m\u001b[0m\u001b[0m\n\u001b[0;32m---> 80\u001b[0;31m         \u001b[0mself\u001b[0m\u001b[0;34m.\u001b[0m\u001b[0mMatlab\u001b[0m\u001b[0;34m.\u001b[0m\u001b[0mstart\u001b[0m\u001b[0;34m(\u001b[0m\u001b[0;34m)\u001b[0m\u001b[0;34m\u001b[0m\u001b[0m\n\u001b[0m\u001b[1;32m     81\u001b[0m         \u001b[0mself\u001b[0m\u001b[0;34m.\u001b[0m\u001b[0mpyconverter\u001b[0m \u001b[0;34m=\u001b[0m \u001b[0mpyconverter\u001b[0m\u001b[0;34m\u001b[0m\u001b[0m\n\u001b[1;32m     82\u001b[0m \u001b[0;34m\u001b[0m\u001b[0m\n",
      "\u001b[0;32m/Users/eechris/anaconda/envs/eg-247/lib/python3.5/site-packages/pymatbridge/pymatbridge.py\u001b[0m in \u001b[0;36mstart\u001b[0;34m(self)\u001b[0m\n\u001b[1;32m    223\u001b[0m             \u001b[0;32mreturn\u001b[0m \u001b[0mself\u001b[0m\u001b[0;34m\u001b[0m\u001b[0m\n\u001b[1;32m    224\u001b[0m         \u001b[0;32melse\u001b[0m\u001b[0;34m:\u001b[0m\u001b[0;34m\u001b[0m\u001b[0m\n\u001b[0;32m--> 225\u001b[0;31m             \u001b[0;32mraise\u001b[0m \u001b[0mValueError\u001b[0m\u001b[0;34m(\u001b[0m\u001b[0;34m\"%s failed to start\"\u001b[0m \u001b[0;34m%\u001b[0m \u001b[0mself\u001b[0m\u001b[0;34m.\u001b[0m\u001b[0m_program_name\u001b[0m\u001b[0;34m(\u001b[0m\u001b[0;34m)\u001b[0m\u001b[0;34m)\u001b[0m\u001b[0;34m\u001b[0m\u001b[0m\n\u001b[0m\u001b[1;32m    226\u001b[0m \u001b[0;34m\u001b[0m\u001b[0m\n\u001b[1;32m    227\u001b[0m     \u001b[0;32mdef\u001b[0m \u001b[0m_response\u001b[0m\u001b[0;34m(\u001b[0m\u001b[0mself\u001b[0m\u001b[0;34m,\u001b[0m \u001b[0;34m**\u001b[0m\u001b[0mkwargs\u001b[0m\u001b[0;34m)\u001b[0m\u001b[0;34m:\u001b[0m\u001b[0;34m\u001b[0m\u001b[0m\n",
      "\u001b[0;31mValueError\u001b[0m: MATLAB failed to start"
     ]
    }
   ],
   "source": [
    "ip = get_ipython()\n",
    "pymat.load_ipython_extension(ip)"
   ]
  },
  {
   "cell_type": "code",
   "execution_count": 9,
   "metadata": {
    "collapsed": false
   },
   "outputs": [
    {
     "data": {
      "image/png": "[encoded data removed]"
     },
     "metadata": {},
     "output_type": "display_data"
    }
   ],
   "source": [
    "%%matlab\n",
    "%% Plot a Random Signal\n",
    "plot(0.5 + 0.25 * rand(100,1))\n",
    "ylim([0,1])\n",
    "grid\n",
    "title('Random Signal')\n",
    "xlabel('Time t (s)')\n",
    "ylabel('Amplitude')"
   ]
  },
  {
   "cell_type": "code",
   "execution_count": 10,
   "metadata": {
    "collapsed": false
   },
   "outputs": [
    {
     "data": {
      "text/plain": [
       "\n",
       "ans =\n",
       "\n",
       "     4\n",
       "\n"
      ]
     },
     "metadata": {},
     "output_type": "display_data"
    }
   ],
   "source": [
    "%matlab 2+2"
   ]
  }
 ],
 "metadata": {
  "celltoolbar": "Slideshow",
  "kernelspec": {
   "display_name": "Python 3",
   "language": "python",
   "name": "python3"
  },
  "language_info": {
   "codemirror_mode": {
    "name": "ipython",
    "version": 3
   },
   "file_extension": ".py",
   "mimetype": "text/x-python",
   "name": "python",
   "nbconvert_exporter": "python",
   "pygments_lexer": "ipython3",
   "version": "3.5.1"
  }
 },
 "nbformat": 4,
 "nbformat_minor": 0
}
