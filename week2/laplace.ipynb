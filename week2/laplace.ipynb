{
 "cells": [
  {
   "cell_type": "markdown",
   "metadata": {
    "slideshow": {
     "slide_type": "slide"
    }
   },
   "source": [
    "# The Laplace Transformation"
   ]
  },
  {
   "cell_type": "markdown",
   "metadata": {
    "slideshow": {
     "slide_type": "slide"
    }
   },
   "source": [
    "## About the Laplace Transformation\n",
    "\n",
    "The Laplace Transformation (named after [Pierre-Simon Laplace](http://en.wikipedia.org/wiki/Pierre-Simon_Laplace)) is a useful mathematical tool that is used in many branches of engineering including signals and systems theory, control theory, communications, mechanical engineering, etc. \n",
    "\n",
    "Its principle benefits are: \n",
    "\n",
    "1. it enables us to represent differential equations that model the behaviour of systems in the time domain as polynomials in $s$ which facilitates their solution\n",
    "2. it converts time convolution (which is how we determine the time-response of a system to a given signal) into a simple multiplication in the $s$ domain.\n",
    "\n",
    "The only downside is that time $t$ is a real value whereas the Laplace transformation operator $s$ is a complex exponential $s = \\sigma + j\\omega$."
   ]
  },
  {
   "cell_type": "markdown",
   "metadata": {
    "slideshow": {
     "slide_type": "slide"
    }
   },
   "source": [
    "## About this Session\n",
    "\n",
    "The preparatory reading for this session is Chapter 2 of Karris which\n",
    "\n",
    "* defines the Laplace transformation \n",
    "* gives the most useful properties of the Laplace transform with proofs \n",
    "* presents the Laplace transforms of the elementary signals discussed in the last session\n",
    "* presents the transforms of the more common system response types that are found in basic signals and systems.\n",
    "\n",
    "There is some intellectual benefit to being aware of the properties of the Laplace transformation and their proofs but being a pragmatic breed, we engineers typically prefer to make use of quick references of these properties and transforms, relying on Mathematics only when facing a problem not before encountered.\n",
    "\n",
    "In our practice, we want to encourage you to use of the properties and transform tables to solve problems so I will present only the properties and not the proofs."
   ]
  },
  {
   "cell_type": "markdown",
   "metadata": {
    "slideshow": {
     "slide_type": "slide"
    }
   },
   "source": [
    "## Agenda"
   ]
  },
  {
   "cell_type": "markdown",
   "metadata": {
    "slideshow": {
     "slide_type": "fragment"
    }
   },
   "source": [
    "* Definition of the Laplace Transform"
   ]
  },
  {
   "cell_type": "markdown",
   "metadata": {
    "slideshow": {
     "slide_type": "fragment"
    }
   },
   "source": [
    "* Some Selected Properties"
   ]
  },
  {
   "cell_type": "markdown",
   "metadata": {
    "slideshow": {
     "slide_type": "fragment"
    }
   },
   "source": [
    "* Transforms of Elementary Signals"
   ]
  },
  {
   "cell_type": "markdown",
   "metadata": {
    "slideshow": {
     "slide_type": "fragment"
    }
   },
   "source": [
    "* Common system responses"
   ]
  },
  {
   "cell_type": "markdown",
   "metadata": {
    "slideshow": {
     "slide_type": "fragment"
    }
   },
   "source": [
    "* Transform tables"
   ]
  },
  {
   "cell_type": "markdown",
   "metadata": {
    "slideshow": {
     "slide_type": "fragment"
    }
   },
   "source": [
    "* Examples"
   ]
  },
  {
   "cell_type": "markdown",
   "metadata": {
    "slideshow": {
     "slide_type": "slide"
    }
   },
   "source": [
    "## Definition of the Laplace Transform\n",
    "\n",
    "### Laplace transform\n",
    "\n",
    "$$\\mathcal{L}\\{f(t)\\}=F(s) = \\int_{0}^{\\infty}f(t)e^{-st}dt$$"
   ]
  },
  {
   "cell_type": "markdown",
   "metadata": {
    "slideshow": {
     "slide_type": "fragment"
    }
   },
   "source": [
    "### Inverse Laplace Transform\n",
    "\n",
    "$$\\mathcal{L}^{-1}\\{F(s)\\}=f(t)=\\frac{1}{2\\pi j}\\int_{\\sigma-j\\omega}^{\\sigma+j\\omega}F(s)e^{st} ds$$"
   ]
  },
  {
   "cell_type": "markdown",
   "metadata": {
    "slideshow": {
     "slide_type": "subslide"
    }
   },
   "source": [
    "### Region of convergence\n",
    "\n",
    "For a Laplace transfomation to exist, the integral must be bounded. That is\n",
    "$$\\left| {\\int_0^\\infty  {f(t){e^{ - st}}dt} } \\right| < \\infty $$\n",
    "\n",
    "For most signals and systems of interest in this module it will be.\n",
    "\n",
    "(See discussion of exponential order on Page 2-2 of Karris)."
   ]
  },
  {
   "cell_type": "markdown",
   "metadata": {
    "slideshow": {
     "slide_type": "subslide"
    }
   },
   "source": [
    "### Informal transform notation\n",
    "\n",
    "The Laplace transform and its inverse come in pairs which are tabulated for ease of reference. For any given function of time $f(t)$ we only need to know the transform\n",
    "\n",
    "$$f(t)\\Leftrightarrow F(s)$$ \n",
    "\n",
    "to be able to get to the Laplace transform and *vice versa*."
   ]
  },
  {
   "cell_type": "markdown",
   "metadata": {
    "slideshow": {
     "slide_type": "slide"
    }
   },
   "source": [
    "## Some Selected Properties"
   ]
  },
  {
   "cell_type": "markdown",
   "metadata": {
    "slideshow": {
     "slide_type": "subslide"
    }
   },
   "source": [
    "### Linearity\n",
    "\n",
    "$$c_1f_1(t) + c_2f_2(t) + \\ldots + c_nf_n(t) \\Leftrightarrow c_1F_1(s) + c_2F_2(s) + \\ldots + c_nF_n(s)$$"
   ]
  },
  {
   "cell_type": "markdown",
   "metadata": {
    "slideshow": {
     "slide_type": "subslide"
    }
   },
   "source": [
    "### Time shift\n",
    "\n",
    "$$f(t-a)u_0(t-a)\\Leftrightarrow e^{-as}F(s)$$"
   ]
  },
  {
   "cell_type": "markdown",
   "metadata": {
    "slideshow": {
     "slide_type": "subslide"
    }
   },
   "source": [
    "### Frequency shift\n",
    "\n",
    "$$e^{-at}f(t)\\Leftrightarrow F(s+a)$$"
   ]
  },
  {
   "cell_type": "markdown",
   "metadata": {
    "slideshow": {
     "slide_type": "subslide"
    }
   },
   "source": [
    "### Scaling\n",
    "\n",
    "$$f(at)\\Leftrightarrow \\frac{1}{a}F\\left(\\frac{s}{a}\\right)$$"
   ]
  },
  {
   "cell_type": "markdown",
   "metadata": {
    "slideshow": {
     "slide_type": "subslide"
    }
   },
   "source": [
    "### Differentiation in the time domain\n",
    "\n",
    "$$f'(t) = \\frac{d}{dt} f(t) \\Leftrightarrow sF(s) - f(0^-)$$\n",
    "\n",
    "This property facilitates the solution of differential equations"
   ]
  },
  {
   "cell_type": "markdown",
   "metadata": {
    "slideshow": {
     "slide_type": "subslide"
    }
   },
   "source": [
    "The differentiation property can be extended to higher-orders as follows\n",
    "$$f''(t) = \\frac{d^2}{dt^2}f(t) \\Leftrightarrow s^2F(s) - sf(0^-) - f'(0^-)$$\n",
    "\n",
    "$$f''(t) = \\frac{d^3}{dt^3}f(t) \\Leftrightarrow s^3F(s) - s^2f(0) - sf'(0^-) - f''(0^-)$$\n",
    "\n",
    "and in general\n",
    "\n",
    "$$f^{(n)}(t) = \\frac{d^n}{dt^n}f(t) \\Leftrightarrow s^nF(s) - s^{n-1}f(0^-) - s^{n-2}f'(0^-) - \\cdots - f^{(n-1)}(0^-)$$"
   ]
  },
  {
   "cell_type": "markdown",
   "metadata": {
    "slideshow": {
     "slide_type": "subslide"
    }
   },
   "source": [
    "### Differentiation in the complex frequency domain\n",
    "\n",
    "$$tf(t) \\Leftrightarrow -\\frac{d}{ds}F(s)$$\n",
    "\n",
    "and in general\n",
    "\n",
    "$$t^nf(t) \\Leftrightarrow (-1)^n\\frac{d^n}{ds^n}F(s)$$"
   ]
  },
  {
   "cell_type": "markdown",
   "metadata": {
    "slideshow": {
     "slide_type": "subslide"
    }
   },
   "source": [
    "### Integration in the time domain\n",
    "\n",
    "$$\\int_{-\\infty}^tf(\\tau)d\\tau \\Leftrightarrow \\frac{F(s)}{s}+\\frac{f(0^-)}{s}$$\n",
    "\n",
    "This property is important because it provides a way to model the solution of a differential equation using op-amp integrators in so-called [Analogue Computers](http://en.wikipedia.org/wiki/Analog_computer) and is now the basis for numerical integration systems like Simulink."
   ]
  },
  {
   "cell_type": "markdown",
   "metadata": {
    "slideshow": {
     "slide_type": "subslide"
    }
   },
   "source": [
    "### Integration in the complex frequency domain\n",
    "\n",
    "Providing that \n",
    "\n",
    "$$\\lim_{t\\to 0} \\frac{f(t)}{t}$$\n",
    "\n",
    "exists\n",
    "\n",
    "$$\\frac{f(t)}{t}\\Leftrightarrow \\int_s^\\infty F(s)ds$$\n",
    "\n"
   ]
  },
  {
   "cell_type": "markdown",
   "metadata": {
    "slideshow": {
     "slide_type": "subslide"
    }
   },
   "source": [
    "### Time periodicity property\n",
    "\n",
    "If $f(t)$ is a periodic function with period $T$ such that $f(t) = f(t+nT)$ for $n=1,2,3,\\ldots$ then\n",
    "\n",
    "$$f(t+nT) \\Leftrightarrow \\frac{\\int_0^T f(t)e^{-st}dt}{1-e^{-sT}}$$"
   ]
  },
  {
   "cell_type": "markdown",
   "metadata": {
    "slideshow": {
     "slide_type": "subslide"
    }
   },
   "source": [
    "### Initial value theorem\n",
    "\n",
    "$$\\lim_{t\\to 0}f(t) \\Leftrightarrow \\lim_{s\\to \\infty} sF(s) = f(0^-)$$"
   ]
  },
  {
   "cell_type": "markdown",
   "metadata": {
    "slideshow": {
     "slide_type": "subslide"
    }
   },
   "source": [
    "### Final value theorem\n",
    "\n",
    "$$\\lim_{t\\to \\infty}f(t) \\Leftrightarrow \\lim_{s\\to 0} sF(s) = f(\\infty)$$"
   ]
  },
  {
   "cell_type": "markdown",
   "metadata": {
    "slideshow": {
     "slide_type": "subslide"
    }
   },
   "source": [
    "### Convolution in the time domain\n",
    "\n",
    "$$f_1(t)*f_2(t) = \\int_{0}^{t}f_1(\\tau)f_2(t-\\tau) d\\tau \\Leftrightarrow F_1(s) F_2(s)$$\n",
    "\n",
    "This is another important result as it allows us to compute the response of a system by simply multiplying the Laplace transforms of the system and the signal and then inverse Laplace transforming the result. \n",
    "\n",
    "This is usually much simpler than computing the convolution integral in the time domain &ndash; an operation we we see later!"
   ]
  },
  {
   "cell_type": "markdown",
   "metadata": {
    "slideshow": {
     "slide_type": "subslide"
    }
   },
   "source": [
    "### Convolution in the complex frequency domain\n",
    "\n",
    "Multiplying two signals together in the time domain is the same as performing convolution in the complex frequency domain. \n",
    "\n",
    "$$f_1(t)f_2(t) \\Leftrightarrow \\frac{1}{2\\pi j}F_1(s) * F_2(s) = \\frac{1}{2\\pi j}\\lim_{T\\to \\infty}\\int_{c-jT}^{c+jT}F_1(\\sigma)F_2(s-\\sigma)d\\sigma$$\n",
    "\n",
    "Convolution in the complex frequency domain is nasty &ndash; multiplication in the time domain is relatively painless."
   ]
  },
  {
   "cell_type": "markdown",
   "metadata": {
    "slideshow": {
     "slide_type": "slide"
    }
   },
   "source": [
    "## Transform tables\n",
    "\n",
    "Every textbook that covers Laplace transforms will provide a tables of properties and the most commonly encountered transforms. Karris is no exception and you will find a table of transforms in Tables 2.1 and 2.2. \n",
    "\n",
    "Here are a couple that are on the net for your reference\n",
    "\n",
    "* Laplace transform [(Wikipedia)](http://en.wikipedia.org/wiki/Laplace_transform)\n",
    "* Laplace Transform [(Wolfram|Alpha)](http://mathworld.wolfram.com/LaplaceTransform.html)"
   ]
  },
  {
   "cell_type": "markdown",
   "metadata": {
    "slideshow": {
     "slide_type": "subslide"
    }
   },
   "source": [
    "### Don't panic\n",
    "\n",
    "Tables of Laplace transform properties and transforms will be included with the exam paper."
   ]
  },
  {
   "cell_type": "markdown",
   "metadata": {
    "slideshow": {
     "slide_type": "slide"
    }
   },
   "source": [
    "## Transforms of Elementary Signals\n",
    "\n",
    "<table width=\"60%\">\n",
    "<thead>\n",
    "<tr><td width=\"10%\">&nbsp;</td><th width=\"40%\">f(t)</th><th width=\"40%\">F(s)</th></tr>\n",
    "</thead>\n",
    "<tbody>\n",
    "<tr><td>1</td><td>$$\\delta(t)$$</td><td>$$1$$</td></tr>\n",
    "<tr><td>2</td><td>$$\\delta(t-a)$$</td><td>$$e^{-as}$$</td></tr>\n",
    "<tr><td>3</td><td>$$u_0(t)$$</td><td>$$\\frac{1}{s}$$</td></tr>\n",
    "<tr><td>4</td><td>$$t u_0(t)$$</td><td>$$\\frac{1}{s^2}$$</td></tr>\n",
    "<tr><td>5</td><td>$$t^n u_0(t)$$</td><td>$$\\frac{n!}{s^{n+1}}$$</td></tr>\n",
    "<tr><td>6</td><td>$$e^{-at}u_0(t)$$</td><td>$$\\frac{1}{s+a}$$</td></tr>\n",
    "<tr><td>7</td><td>$$t^n e^{-at} u_0(t)$$</td><td>$$\\frac{n!}{(s+a)^{n+1}}$$</td></tr>\n",
    "<tr><td>8</td><td>$$\\sin (\\omega t) u_0(t)$$</td><td>$$\\frac{\\omega}{s^2 + \\omega^2}$$</td></tr>\n",
    "<tr><td>9</td><td>$$\\cos (\\omega t) u_0(t)$$</td><td>$$\\frac{s}{s^2 + \\omega^2}$$</td></tr>\n",
    "<tr><td>10</td><td>$$e^{-at} \\sin (\\omega t) u_0(t)$$</td><td>$$\\frac{\\omega}{(s + a)^2 + \\omega^2}$$</td></tr>\n",
    "<tr><td>11</td><td>$$e^{-at}\\cos (\\omega t) u_0(t)$$</td><td>$$\\frac{s+a}{(s+a)^2 + \\omega^2}$$</td></tr>\n",
    "</tbody>\n",
    "</table>\n",
    "\n",
    "\n",
    "Refer to the textbook if you want to see the proof of these transforms."
   ]
  },
  {
   "cell_type": "markdown",
   "metadata": {
    "slideshow": {
     "slide_type": "slide"
    }
   },
   "source": [
    "## Laplace transforms of common waveforms\n",
    "\n",
    "We will work through a few of the following on the board in class\n",
    "\n",
    "* Pulse\n",
    "* Linear segment\n",
    "* Triangular waveform\n",
    "* Rectangular periodic waveform (square wave)\n",
    "* Half rectified sine wave"
   ]
  },
  {
   "cell_type": "markdown",
   "metadata": {
    "slideshow": {
     "slide_type": "slide"
    }
   },
   "source": [
    "## Using Matlab to Find Laplace Transforms\n",
    "\n",
    "The Matlab function `laplace` can be used to find laplace transforms of time functions. The lab exercises will illustrate this."
   ]
  },
  {
   "cell_type": "markdown",
   "metadata": {
    "slideshow": {
     "slide_type": "slide"
    }
   },
   "source": [
    "## Homework\n",
    "\n",
    "Attempt at least one of the end-of-chapter exercises from each question 1-7 of Section 2.7 from the textbook. Don't look at the answers until you have attempted the problems.\n",
    "\n",
    "If we have time, I will work through one or two of these in class."
   ]
  }
 ],
 "metadata": {
  "anaconda-cloud": {},
  "celltoolbar": "Slideshow",
  "kernelspec": {
   "display_name": "Python [default]",
   "language": "python",
   "name": "python3"
  },
  "language_info": {
   "codemirror_mode": {
    "name": "ipython",
    "version": 3
   },
   "file_extension": ".py",
   "mimetype": "text/x-python",
   "name": "python",
   "nbconvert_exporter": "python",
   "pygments_lexer": "ipython3",
   "version": "3.5.2"
  }
 },
 "nbformat": 4,
 "nbformat_minor": 0
}
