{
 "cells": [
  {
   "cell_type": "markdown",
   "metadata": {
    "slideshow": {
     "slide_type": "slide"
    }
   },
   "source": [
    "# Lesson 2\n",
    "\n",
    "## Homework: Elementary signals\n",
    "\n",
    "Copy this page into the _Homework_ section of your personal section of the **OneNote Class Notebook** then you can use the *ink feature* (if supported) to sketch your answers.\n",
    "\n",
    "<ol>\n",
    "<li>Show that the waveform shown below \n",
    "\n",
    "<img src=\"pictures/example1.png\"> can be represented by the function \n",
    "   \n",
    "   $$v(t) = (2t + 1)u_0(t)-2(t-1)u_0(t-1)-tu_0(t-2)+(t-3)u_o(t-3)$$\n",
    "   \n",
    "</li>\n",
    "<li>Do the [end of the chapter exercises (Section 1.7) from the textbook](http://site.ebrary.com/lib/swansea/reader.action?docID=10547416&ppg=17). Don't look at the answers until you have attempted the problems.</li>\n",
    "</ol>"
   ]
  }
 ],
 "metadata": {
  "kernelspec": {
   "display_name": "Python 3",
   "language": "python",
   "name": "python3"
  },
  "language_info": {
   "codemirror_mode": {
    "name": "ipython",
    "version": 3
   },
   "file_extension": ".py",
   "mimetype": "text/x-python",
   "name": "python",
   "nbconvert_exporter": "python",
   "pygments_lexer": "ipython3",
   "version": "3.5.1"
  }
 },
 "nbformat": 4,
 "nbformat_minor": 0
}
