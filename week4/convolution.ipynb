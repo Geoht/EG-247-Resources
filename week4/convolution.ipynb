{
 "cells": [
  {
   "cell_type": "markdown",
   "metadata": {
    "slideshow": {
     "slide_type": "slide"
    }
   },
   "source": [
    "# The Impulse Response and Convolution (Part 1)"
   ]
  },
  {
   "cell_type": "markdown",
   "metadata": {
    "slideshow": {
     "slide_type": "subslide"
    }
   },
   "source": [
    "## Scope and Background Reading\n",
    "\n",
    "This session is an introduction to the impulse response of a system and time convolution. Together, these can be used to determine a Linear Time Invariant (LTI) system's time response to any signal.\n",
    "\n",
    "As we shall see, in the determination of a system's response to a signal input, time convolution involves integration by parts and is a tricky operation. But time convolution becomes multiplication in the Laplace Transform domain, and is much easier to apply.\n",
    "\n",
    "The material in this presentation and notes is based on Chapter 6 of [Steven T. Karris, Signals and Systems: with Matlab Computation and Simulink Modelling, 5th Edition.](http://site.ebrary.com/lib/swansea/docDetail.action?docID=10547416) and builds on the time response of a state-space model that was developed in the [previous session](http://nbviewer.ipython.org/github/cpjobling/EG-247-Resources/blob/master/week4/state_space.ipynb)."
   ]
  },
  {
   "cell_type": "markdown",
   "metadata": {
    "slideshow": {
     "slide_type": "slide"
    }
   },
   "source": [
    "## Agenda\n",
    "\n",
    "The material to be presented will need two sessions."
   ]
  },
  {
   "cell_type": "markdown",
   "metadata": {
    "slideshow": {
     "slide_type": "fragment"
    }
   },
   "source": [
    "*Today*\n",
    "\n",
    "* The Impulse Response of a System in Time Domain\n",
    "* Even and Odd Functions of Time"
   ]
  },
  {
   "cell_type": "markdown",
   "metadata": {
    "slideshow": {
     "slide_type": "fragment"
    }
   },
   "source": [
    "*Next Session*\n",
    "\n",
    "* Time Convolution\n",
    "* Graphical Evaluation of the Convolution Integral\n",
    "* System Response by Convolution\n",
    "* System Response by Laplace"
   ]
  },
  {
   "cell_type": "markdown",
   "metadata": {
    "slideshow": {
     "slide_type": "slide"
    }
   },
   "source": [
    "## The Impulse Response of a System in Time Domain\n",
    "\n",
    "In the last session we showed that if the state-space model of a SISO system was:\n",
    "\n",
    "$$\\begin{array}{l}\n",
    "{\\bf{\\dot x}} = {\\bf{Ax}} + {\\bf{B}}u\\\\\n",
    "y = {\\bf{Cx}} + du\n",
    "\\end{array}$$\n",
    "\n",
    "the state response would be\n",
    "\n",
    "$${\\bf{x}}(t) = {e^{{\\bf{A}}t}}{{\\bf{x}}_0} + \\int_0^t {{e^{{\\bf{A}}(t - \\tau )}}{\\bf{B}}u(\\tau )d\\tau } $$\n",
    "\n",
    "which for our later convenience can be rewritten\n",
    "\n",
    "$${\\bf{x}}(t) = {e^{{\\bf{A}}t}}{{\\bf{x}}_0} + {e^{{\\bf{At}}}}\\int_0^t {{e^{ - {\\bf{A}}\\tau }}{\\bf{B}}u(\\tau )d\\tau } $$"
   ]
  },
  {
   "cell_type": "markdown",
   "metadata": {
    "slideshow": {
     "slide_type": "subslide"
    }
   },
   "source": [
    "### Impulse response (1)\n",
    "\n",
    "If we assume zero initial conditions $\\bf{x}_0 = \\bf{0}$ and $u(t) = \\delta(t)$ (Matlab `dirac`), then the state-reponse to an impulse input is:\n",
    "\n",
    "$${\\bf{x}}(t) = {e^{{\\bf{At}}}}\\int_0^t {{e^{ - {\\bf{A}}\\tau }}{\\bf{B}}\\delta(\\tau )d\\tau } $$\n",
    "\n",
    "Using the *sifting property* of the delta function\n",
    "\n",
    "$$\\int_{-\\infty}^{\\infty}f(t)\\delta(\\tau)d\\tau = f(0)$$\n",
    "\n",
    "then\n",
    "\n",
    "$${\\bf{x}}(t) = {e^{{\\bf{At}}}}{\\bf{B}}$$\n",
    "\n",
    "so, the impulse response is:\n",
    "\n",
    "$$y(t) = {\\bf{C}}{e^{{\\bf{At}}}}{\\bf{B}} + d\\delta (t)$$"
   ]
  },
  {
   "cell_type": "markdown",
   "metadata": {
    "slideshow": {
     "slide_type": "subslide"
    }
   },
   "source": [
    "### Impulse response (2)\n",
    "\n",
    "In most systems that you will encounter on this course the scalar quantity $d = 0$ so the impulse response, which we donate as $h(t)$, is\n",
    "\n",
    "$$h(t) = {\\bf{C}}{e^{{\\bf{At}}}}{\\bf{B}}u_0(t)$$\n",
    "\n",
    "where the unit step function $u_0(t)$ has been included to indicate that the impulse response is only defined for $t>0$."
   ]
  },
  {
   "cell_type": "markdown",
   "metadata": {
    "slideshow": {
     "slide_type": "notes"
    }
   },
   "source": [
    "### Note\n",
    "\n",
    "In the text book, Karris presents the impulse response as\n",
    "\n",
    "$${\\mathbf{x}}(t) = {\\mathbf{h}}(t) = {e^{{\\mathbf{A}}t}}{\\mathbf{B}}{u_0}(t)$$\n",
    "\n",
    "but this is the impulse response of the state variables and is a vector quantity. \n",
    "\n",
    "You need to introduce the output equation to find the actual scalar impulse response $h(t)$ which for a SISO system. \n",
    "\n",
    "Karris gets away with this in his book because he uses voltages and currents as *physical state variables* and the coefficient of the corresponding $\\bf{C}$ matrix will be unity.\n",
    "\n",
    "In general, we cannot assume that this will be true so I prefer to be a little more careful in my presentation."
   ]
  },
  {
   "cell_type": "markdown",
   "metadata": {
    "slideshow": {
     "slide_type": "subslide"
    }
   },
   "source": [
    "### Example 1\n",
    "\n",
    "Compute the impulse response of the series RC circuit shown below in terms of the constants $R$ and $C$, where the response is considered to be the voltage across the capicitor, and $v_c(0^-)=0$. Then, compute the current through the capacitor. \n",
    "\n",
    "<img src=\"pictures/c_example1.png\">"
   ]
  },
  {
   "cell_type": "markdown",
   "metadata": {
    "slideshow": {
     "slide_type": "notes"
    }
   },
   "source": [
    "<pre style=\"border: 2px solid blue\">\n",
    "\n",
    "\n",
    "\n",
    "\n",
    "\n",
    "\n",
    "\n",
    "\n",
    "\n",
    "\n",
    "\n",
    "\n",
    "\n",
    "\n",
    "\n",
    "</pre>"
   ]
  },
  {
   "cell_type": "markdown",
   "metadata": {
    "slideshow": {
     "slide_type": "subslide"
    }
   },
   "source": [
    "### Example 2\n",
    "\n",
    "In the RLC circuit shown below, compute the impulse response $h(t)=v_c(t)$ given that the initial conditions are zero, that is $i_L(0^-)=0$ and $V_c(0^-)=0$.\n",
    "\n",
    "<img src=\"pictures/c_example2.png\">"
   ]
  },
  {
   "cell_type": "markdown",
   "metadata": {
    "slideshow": {
     "slide_type": "subslide"
    }
   },
   "source": [
    "### Solution\n",
    "\n",
    "We tackled this problem as Example 6 in the previous session and found that:\n",
    "    \n",
    "$$\\begin{array}{l}\n",
    "{\\bf{B}} = \\left[ {\\begin{array}{*{20}{c}}\n",
    "4\\\\\n",
    "0\n",
    "\\end{array}} \\right]\\\\\n",
    "{e^{{\\bf{A}}t}} = \\left[ {\\begin{array}{*{20}{c}}\n",
    "{ - \\frac{1}{2}{e^{ - t}} + \\frac{3}{2}{e^{ - 3t}}}&{ - 2{e^{ - t}} + 2{e^{ - 3t}}}\\\\\n",
    "{\\frac{3}{8}{e^{ - t}} + \\frac{3}{8}{e^{ - 3t}}}&{\\frac{3}{2}{e^{ - t}} - \\frac{1}{2}{e^{ - 3t}}}\n",
    "\\end{array}} \\right]\n",
    "\\end{array}$$"
   ]
  },
  {
   "cell_type": "markdown",
   "metadata": {
    "slideshow": {
     "slide_type": "fragment"
    }
   },
   "source": [
    "so the impulse response of the state variables is:\n",
    "\n",
    "$${\\bf{x}}(t) = {e^{{\\bf{A}}t}}{\\bf{B}}{u_0}(t) = \\left[ {\\begin{array}{*{20}{c}}\n",
    "{ - \\frac{1}{2}{e^{ - t}} + \\frac{3}{2}{e^{ - 3t}}}&{ - 2{e^{ - t}} + 2{e^{ - 3t}}}\\\\\n",
    "{\\frac{3}{8}{e^{ - t}} + \\frac{3}{8}{e^{ - 3t}}}&{\\frac{3}{2}{e^{ - t}} - \\frac{1}{2}{e^{ - 3t}}}\n",
    "\\end{array}} \\right]\\left[ {\\begin{array}{*{20}{c}}\n",
    "4\\\\\n",
    "0\n",
    "\\end{array}} \\right]{u_0}(t) = \\left[ {\\begin{array}{*{20}{c}}\n",
    "{ - 2{e^{ - t}} + 6{e^{ - 3t}}}\\\\\n",
    "{\\frac{3}{2}{e^{ - t}} + \\frac{3}{2}{e^{ - 3t}}}\n",
    "\\end{array}} \\right]{u_0}(t)$$"
   ]
  },
  {
   "cell_type": "markdown",
   "metadata": {
    "slideshow": {
     "slide_type": "subslide"
    }
   },
   "source": [
    "### Impulse response\n",
    "\n",
    "In Example 6 in the previous session, we defined $x_1 = i_L$ and $x_2 = v_c$ so if we want the capacitor voltage to be the circuit output, the output vector $\\bf{C}$ will be \n",
    "\n",
    "$${\\bf{C}} = {\\rm{ }}\\left[ {\\begin{array}{*{20}{c}}\n",
    "0&1\n",
    "\\end{array}} \\right]$$\n",
    "\n",
    "so\n",
    "\n",
    "$$\\begin{array}{l}\n",
    "h(t) = y(t) = {v_c}(t) & = & {\\bf{C}}{e^{{\\bf{A}}t}}{\\bf{B}}{u_0}(t)\\\\\n",
    " & = & \\left[ {\\begin{array}{*{20}{c}}\n",
    "0&1\n",
    "\\end{array}} \\right]\\left[ {\\begin{array}{*{20}{c}}\n",
    "{ - 2{e^{ - t}} + 6{e^{ - 3t}}}\\\\\n",
    "{\\frac{3}{2}{e^{ - t}} + \\frac{3}{2}{e^{ - 3t}}}\n",
    "\\end{array}} \\right]{u_0}(t)\\\\\n",
    " & = & \\left( {\\frac{3}{2}{e^{ - t}} + \\frac{3}{2}{e^{ - 3t}}} \\right){u_0}(t) = \\frac{3}{2}\\left( {{e^{ - t}} + {e^{ - 3t}}} \\right){u_0}(t)\n",
    "\\end{array}$$"
   ]
  },
  {
   "cell_type": "markdown",
   "metadata": {
    "slideshow": {
     "slide_type": "slide"
    }
   },
   "source": [
    "## Even and Odd Functions of Time\n",
    "\n",
    "(**This should be revision!**)\n",
    "\n",
    "We need to be reminded of *even* and *odd* functions so that we can develop the idea of time convolution which is a means of determining the time response of any system for which we know its *impulse response* to any signal.\n",
    "\n",
    "The development requires us to find out if the Dirac delta function ($\\delta(t)$) is an *even* or an *odd* function of time."
   ]
  },
  {
   "cell_type": "markdown",
   "metadata": {
    "slideshow": {
     "slide_type": "subslide"
    }
   },
   "source": [
    "### Even Functions of Time\n",
    "\n",
    "A function $f(t)$ is said to be an *even function* of time if the following relation holds\n",
    "\n",
    "$$f(-t) = f(t)$$\n",
    "\n",
    "that is, if we relace $t$ with $-t$ the function $f(t)$ does not change.\n",
    "\n",
    "Polynomials with even exponents only, and with or without constants, are even functions. For example:\n",
    "\n",
    "$$\\cos t = 1 - \\frac{t^2}{2!} + \\frac{t^4}{4!} - \\frac{t^6}{6!} + \\ldots$$\n",
    "\n",
    "is even."
   ]
  },
  {
   "cell_type": "markdown",
   "metadata": {
    "slideshow": {
     "slide_type": "subslide"
    }
   },
   "source": [
    "### Other Examples of Even Functions\n",
    "\n",
    "<img src=\"pictures/even_funcs.png\" width=\"75%\">"
   ]
  },
  {
   "cell_type": "markdown",
   "metadata": {
    "slideshow": {
     "slide_type": "subslide"
    }
   },
   "source": [
    "### Odd Functions of Time\n",
    "\n",
    "A function $f(t)$ is said to be an *odd function* of time if the following relation holds\n",
    "\n",
    "$$-f(-t) = f(t)$$\n",
    "\n",
    "that is, if we relace $t$ with $-t$, we obtain the negative of the function $f(t)$.\n",
    "\n",
    "Polynomials with odd exponents only, and no constants, are odd functions. For example:\n",
    "\n",
    "$$\\sin t = t - \\frac{t^3}{3!} + \\frac{t^5}{5!} - \\frac{t^7}{7!} + \\ldots$$\n",
    "\n",
    "is odd."
   ]
  },
  {
   "cell_type": "markdown",
   "metadata": {
    "slideshow": {
     "slide_type": "subslide"
    }
   },
   "source": [
    "### Other Examples of Odd Functions\n",
    "\n",
    "<img src=\"pictures/odd_funcs.png\" width=\"75%\">"
   ]
  },
  {
   "cell_type": "markdown",
   "metadata": {
    "slideshow": {
     "slide_type": "subslide"
    }
   },
   "source": [
    "### Observations\n",
    "\n",
    "* For odd functions $f(0) = 0$.\n",
    "* If $f(0) = 0$ we should not conclude that $f(t)$ is an odd function. *c.f.* $f(t) = t^2$ is even, not odd.\n",
    "* The product of *two even* or *two odd* functions is an even function.\n",
    "* The product of an even and an odd function, is an odd function.\n",
    "\n",
    "In the following $f_e(t)$ will donate an even function and $f_o(t)$ an odd function."
   ]
  },
  {
   "cell_type": "markdown",
   "metadata": {
    "slideshow": {
     "slide_type": "subslide"
    }
   },
   "source": [
    "### Time integrals of even and odd functions\n",
    "\n",
    "For an even function $f_e(t)$\n",
    "\n",
    "$$\\int_{-T}^{T}f_e(t) dt = 2 \\int_{0}^{T}f_e(t) dt$$\n",
    "\n",
    "For an odd function $f_o(t)$\n",
    "\n",
    "$$\\int_{-T}^{T}f_o(t) dt = 0$$"
   ]
  },
  {
   "cell_type": "markdown",
   "metadata": {
    "slideshow": {
     "slide_type": "subslide"
    }
   },
   "source": [
    "### Even/Odd Representation of an Arbitrary Function\n",
    "\n",
    "A function $f(t)$ that is neither even nor odd can be represented as an even function by use of:\n",
    "    \n",
    "$$f_e(t) = \\frac{1}{2}\\left[f(t)+f(-t)\\right]$$\n",
    "\n",
    "or as an odd function by use of:\n",
    "\n",
    "$$f_o(t) = \\frac{1}{2}\\left[f(t)-f(-t)\\right]$$\n",
    "\n",
    "Adding these together, an abitrary signal can be represented as\n",
    "\n",
    "$$f(t) = f_e(t) + f_o(t)$$\n",
    "\n",
    "That is, any function of time can be expressed as the sum of an even and an odd function."
   ]
  },
  {
   "cell_type": "markdown",
   "metadata": {
    "slideshow": {
     "slide_type": "subslide"
    }
   },
   "source": [
    "### Example 3\n",
    "\n",
    "Is the Dirac delta $\\delta(t)$ an even or an odd function of time?"
   ]
  },
  {
   "cell_type": "markdown",
   "metadata": {
    "slideshow": {
     "slide_type": "subslide"
    }
   },
   "source": [
    "### Solution\n",
    "\n",
    "Let $f(t)$ be an arbitrary function of time that is continous at $t=t_0$. Then by the sifting property of the delta function\n",
    "\n",
    "$$\\int_{-\\infty}^{\\infty} f(t)\\delta(t-t_0) dt = f(t_0)$$\n",
    "\n",
    "and for $t_0 = 0$\n",
    "\n",
    "$$\\int_{-\\infty}^{\\infty} f(t)\\delta(t) dt = f(0)$$"
   ]
  },
  {
   "cell_type": "markdown",
   "metadata": {
    "slideshow": {
     "slide_type": "fragment"
    }
   },
   "source": [
    "Also for an even function $f_e(t)$\n",
    "\n",
    "$$\\int_{-\\infty}^{\\infty} f_e(t)\\delta(t) dt = f_e(0)$$\n",
    "\n",
    "and for an odd function $f_o(t)$\n",
    "\n",
    "$$\\int_{-\\infty}^{\\infty} f_o(t)\\delta(t) dt = f_o(0)$$"
   ]
  },
  {
   "cell_type": "markdown",
   "metadata": {
    "slideshow": {
     "slide_type": "subslide"
    }
   },
   "source": [
    "### Even or odd?\n",
    "\n",
    "An odd function $f_o(t)$ evaluated at $t=0$ is zero, that is $f_o(0) = 0$.\n",
    "\n",
    "Hence\n",
    "\n",
    "$$\\int_{-\\infty}^{\\infty} f_o(t)\\delta(t) dt = f_o(0) = 0$$\n",
    "\n",
    "Hence the product $f_o(t)\\delta(t)$ is odd function of $t$.\n",
    "\n",
    "Since $f_o(t)$ is odd, $\\delta(t)$ must be even because only an *even* function multiplied by an *odd* function can result in an *odd* function.\n",
    "\n",
    "(Even times even or odd times odd produces an even function. See earlier slide)"
   ]
  },
  {
   "cell_type": "markdown",
   "metadata": {
    "slideshow": {
     "slide_type": "slide"
    }
   },
   "source": [
    "## Next Time\n",
    "\n",
    "We will conclude our discussion of *Time Convolution* by presenting:\n",
    "    \n",
    "* Time Convolution\n",
    "* Graphical Evaluation of the Convolution Integral\n",
    "* System Response by Convolution\n",
    "* System Response by Laplace"
   ]
  }
 ],
 "metadata": {
  "celltoolbar": "Slideshow",
  "kernelspec": {
   "display_name": "Python 3",
   "language": "python",
   "name": "python3"
  },
  "language_info": {
   "codemirror_mode": {
    "name": "ipython",
    "version": 3
   },
   "file_extension": ".py",
   "mimetype": "text/x-python",
   "name": "python",
   "nbconvert_exporter": "python",
   "pygments_lexer": "ipython3",
   "version": "3.5.1"
  }
 },
 "nbformat": 4,
 "nbformat_minor": 0
}
