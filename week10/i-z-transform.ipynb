{
 "cells": [
  {
   "cell_type": "markdown",
   "metadata": {
    "slideshow": {
     "slide_type": "slide"
    }
   },
   "source": [
    "# The Inverse Z-Transform"
   ]
  },
  {
   "cell_type": "markdown",
   "metadata": {
    "slideshow": {
     "slide_type": "slide"
    }
   },
   "source": [
    "## Scope and Background Reading"
   ]
  },
  {
   "cell_type": "markdown",
   "metadata": {},
   "source": [
    "This session we will talk about the Inverse Z-Transform and illustrate its use through an examples class.\n",
    "\n",
    "The material in this presentation and notes is based on Chapter 9 (Starting at Section 9.6) of [Steven T. Karris, Signals and Systems: with Matlab Computation and Simulink Modelling, 5th Edition.](http://site.ebrary.com/lib/swansea/docDetail.action?docID=10547416) from the **Required Reading List**. "
   ]
  },
  {
   "cell_type": "markdown",
   "metadata": {
    "slideshow": {
     "slide_type": "slide"
    }
   },
   "source": [
    "## Agenda"
   ]
  },
  {
   "cell_type": "markdown",
   "metadata": {
    "slideshow": {
     "slide_type": "fragment"
    }
   },
   "source": [
    "* Inverse Z-Transform"
   ]
  },
  {
   "cell_type": "markdown",
   "metadata": {
    "slideshow": {
     "slide_type": "fragment"
    }
   },
   "source": [
    "* Examples using PFE"
   ]
  },
  {
   "cell_type": "markdown",
   "metadata": {
    "slideshow": {
     "slide_type": "fragment"
    }
   },
   "source": [
    "* Examples using Long Division"
   ]
  },
  {
   "cell_type": "markdown",
   "metadata": {
    "slideshow": {
     "slide_type": "fragment"
    }
   },
   "source": [
    "* Analysis in Matlab"
   ]
  },
  {
   "cell_type": "markdown",
   "metadata": {
    "slideshow": {
     "slide_type": "slide"
    }
   },
   "source": [
    "## The Inverse Z-Transform\n",
    "\n",
    "The inverse Z-Transform enables us to extract a sequence $f[n]$ from $F(z)$. It can be found by any of the following methods:\n",
    "\n",
    "* Partial fraction expansion\n",
    "* The inversion integral\n",
    "* Long division of polynomials"
   ]
  },
  {
   "cell_type": "markdown",
   "metadata": {
    "slideshow": {
     "slide_type": "subslide"
    }
   },
   "source": [
    "### Partial fraction expansion\n",
    "\n",
    "We expand $F(z)$ into a summation of terms whose inverse is know. These terms have the form:\n",
    "\n",
    "$$k,\\;\\frac{r_1 z}{z - p_1},\\;\\frac{r_1 z}{(z - p_1)^2},\\;\\frac{r_3 z}{z - p_2},\\ldots$$\n",
    "\n",
    "where $k$ is a constant, and $r_i$ and $p_i$ represent the residues and poles respectively, and can be real or complex<sup>1</sup>"
   ]
  },
  {
   "cell_type": "markdown",
   "metadata": {
    "slideshow": {
     "slide_type": "notes"
    }
   },
   "source": [
    "**Notes**\n",
    "\n",
    "1. If complex, the poles and residues will be in complex conjugate pairs \n",
    "\n",
    "$$\\frac{r_{i} z}{z - p_i} + \\frac{r_{i}^* z}{z - p_i^*}$$"
   ]
  },
  {
   "cell_type": "markdown",
   "metadata": {
    "slideshow": {
     "slide_type": "subslide"
    }
   },
   "source": [
    "### Step 1: Make Fractions Proper\n",
    "\n",
    "* Before we expand $F(z)$ into partial fraction expansions, we must first express it as a *proper* rational function.\n",
    "* This is done by expanding $F(z)/z$ instead of $F(z)$\n",
    "* That is we expand\n",
    "\n",
    "$$\\frac{F(z)}{z} = \\frac{k}{z} + \\frac{r_1}{z-p_1} + \\frac{r_2}{z-p_2} + \\cdots$$"
   ]
  },
  {
   "cell_type": "markdown",
   "metadata": {
    "slideshow": {
     "slide_type": "subslide"
    }
   },
   "source": [
    "### Step 2: Find residues\n",
    "\n",
    "* Find residues from\n",
    "\n",
    "$$r_k = \\lim_{z\\to p_k}(z - p_k)\\frac{F(z)}{z} = (z - p_k)\\left.\\frac{F(z)}{z}\\right|_{z=p_k}$$"
   ]
  },
  {
   "cell_type": "markdown",
   "metadata": {
    "slideshow": {
     "slide_type": "subslide"
    }
   },
   "source": [
    "### Step 3: Map back to transform tables form\n",
    "\n",
    "* Rewrite $F(z)/z$:\n",
    "\n",
    "$$z\\frac{F(z)}{z} = F(z) = k + \\frac{r_1z}{s-p_1} + \\frac{r_2z}{s-p_2} + \\cdots$$"
   ]
  },
  {
   "cell_type": "markdown",
   "metadata": {
    "slideshow": {
     "slide_type": "subslide"
    }
   },
   "source": [
    "### Example 1\n",
    "\n",
    "Karris Example 9.4: use the partial fraction expansion to compute the inverse z-transform of\n",
    "\n",
    "$$F(z) = \\frac{1}{(1 - 0.5z^{-1})(1 - 0.75z^{-1})(1 - z^{-1})}$$\n"
   ]
  },
  {
   "cell_type": "markdown",
   "metadata": {
    "slideshow": {
     "slide_type": "notes"
    }
   },
   "source": [
    "<pre style=\"border: 2px solid blue\">\n",
    "\n",
    "\n",
    "\n",
    "\n",
    "\n",
    "\n",
    "\n",
    "\n",
    "\n",
    "\n",
    "\n",
    "\n",
    "\n",
    "\n",
    "\n",
    "\n",
    "\n",
    "\n",
    "\n",
    "</pre>"
   ]
  },
  {
   "cell_type": "markdown",
   "metadata": {},
   "source": [
    "### Answer to Example 1\n",
    "\n",
    "$$f[n] = 2\\left(\\frac{1}{2}\\right)^n - 9\\left(\\frac{3}{4}\\right)^n + 8$$"
   ]
  },
  {
   "cell_type": "markdown",
   "metadata": {
    "slideshow": {
     "slide_type": "subslide"
    }
   },
   "source": [
    "### Matlab solution\n",
    "\n",
    "See [example1.m](matlab/example1.m)\n",
    "\n",
    "Uses Matlab functions: \n",
    "\n",
    "* `collect` &ndash; expands a polynomial\n",
    "* `sym2poly` &ndash; converts a polynomial into a numeric polymial (vector of coefficients in descending order of exponents)\n",
    "* `residue` &ndash; calculates poles and zeros of a polynomial\n",
    "* `ztrans` &ndash; symbolic z-transform\n",
    "* `iztrans` &ndash; symbolic inverse ze-transform\n",
    "* `stem` &ndash; plots sequence as a \"lollipop\" diagram"
   ]
  },
  {
   "cell_type": "markdown",
   "metadata": {
    "slideshow": {
     "slide_type": "subslide"
    }
   },
   "source": [
    "### Stem (\"Lollipop\") Plot\n",
    "\n",
    "<img src=\"pictures/example1.png\">"
   ]
  },
  {
   "cell_type": "markdown",
   "metadata": {
    "slideshow": {
     "slide_type": "subslide"
    }
   },
   "source": [
    "### Example 2\n",
    "\n",
    "Karris example 9.5: use the partial fraction expansion method to to compute the inverse z-transform of\n",
    "\n",
    "$$F(z) = \\frac{12z}{(z+1)(z - 1)^2}$$\n"
   ]
  },
  {
   "cell_type": "markdown",
   "metadata": {
    "slideshow": {
     "slide_type": "notes"
    }
   },
   "source": [
    "<pre style=\"border: 2px solid blue\">\n",
    "\n",
    "\n",
    "\n",
    "\n",
    "\n",
    "\n",
    "\n",
    "\n",
    "\n",
    "\n",
    "\n",
    "\n",
    "\n",
    "\n",
    "\n",
    "\n",
    "\n",
    "\n",
    "\n",
    "</pre>"
   ]
  },
  {
   "cell_type": "markdown",
   "metadata": {
    "slideshow": {
     "slide_type": "subslide"
    }
   },
   "source": [
    "### Answer to Example 2\n",
    "\n",
    "$$f[n] = 3(-1)^n + 6n - 3$$"
   ]
  },
  {
   "cell_type": "markdown",
   "metadata": {
    "slideshow": {
     "slide_type": "subslide"
    }
   },
   "source": [
    "### Matlab solution\n",
    "\n",
    "See [example2.m](matlab/example2.m)\n",
    "\n",
    "Uses additional Matlab functions: \n",
    "\n",
    "* `dimpulse` &ndash; computes and plots a sequence $f[n]$ for any range of values of $n$"
   ]
  },
  {
   "cell_type": "markdown",
   "metadata": {},
   "source": [
    "### Lollipop Plot\n",
    "\n",
    "<img src=\"pictures/example2a.png\">"
   ]
  },
  {
   "cell_type": "markdown",
   "metadata": {
    "slideshow": {
     "slide_type": "subslide"
    }
   },
   "source": [
    "### Staircase Plot\n",
    "\n",
    "Simulates output of Zero-Order-Hold (ZOH) or Digital Analogue Converter (DAC)\n",
    "\n",
    "<img src=\"pictures/example2b.png\">"
   ]
  },
  {
   "cell_type": "markdown",
   "metadata": {
    "slideshow": {
     "slide_type": "subslide"
    }
   },
   "source": [
    "### Example 3\n",
    "\n",
    "Karris example 9.6: use the partial fraction expansion method to to compute the inverse z-transform of\n",
    "\n",
    "$$F(z) = \\frac{z + 1}{(z-1)(z^2 + 2z + 2)}$$"
   ]
  },
  {
   "cell_type": "markdown",
   "metadata": {
    "slideshow": {
     "slide_type": "notes"
    }
   },
   "source": [
    "<pre style=\"border: 2px solid blue\">\n",
    "\n",
    "\n",
    "\n",
    "\n",
    "\n",
    "\n",
    "\n",
    "\n",
    "\n",
    "\n",
    "\n",
    "\n",
    "\n",
    "\n",
    "\n",
    "\n",
    "\n",
    "\n",
    "\n",
    "</pre>"
   ]
  },
  {
   "cell_type": "markdown",
   "metadata": {
    "slideshow": {
     "slide_type": "subslide"
    }
   },
   "source": [
    "### Answer to Example 3\n",
    "\n",
    "$$f[n] = -0.5\\delta[n] + 0.4 + \\frac{(\\sqrt{2})^n}{10}\\cos \\frac{3n\\pi}{4} - \\frac{3(\\sqrt{2})^n}{10}\\sin \\frac{3n\\pi}{4}$$"
   ]
  },
  {
   "cell_type": "markdown",
   "metadata": {
    "slideshow": {
     "slide_type": "subslide"
    }
   },
   "source": [
    "### Matlab solution\n",
    "\n",
    "See [example3.m](matlab/example3.m)"
   ]
  },
  {
   "cell_type": "markdown",
   "metadata": {
    "slideshow": {
     "slide_type": "subslide"
    }
   },
   "source": [
    "### Lollipop Plot\n",
    "\n",
    "<img src=\"pictures/example3a.png\">"
   ]
  },
  {
   "cell_type": "markdown",
   "metadata": {
    "slideshow": {
     "slide_type": "subslide"
    }
   },
   "source": [
    "### Staircase Plot\n",
    "\n",
    "<img src=\"pictures/example3b.png\">"
   ]
  },
  {
   "cell_type": "markdown",
   "metadata": {
    "slideshow": {
     "slide_type": "slide"
    }
   },
   "source": [
    "### Inverse Z-Transform by the Inversion Integral\n",
    "\n",
    "The inversion integral states that:\n",
    "\n",
    "$$f[n] = \\frac{1}{{j2\\pi }}\\oint_C {F(z){z^{n - 1}}\\,dz} $$\n",
    "\n",
    "where $C$ is a closed curve that encloses all poles of the integrant.\n",
    "\n",
    "This can (*apparently*) be solved by Cauchy's residue theorem!!\n",
    "\n",
    "Fortunately (:-), this is beyond the scope of this module!\n",
    "\n",
    "See Karris Section 9.6.2 (pp 9-29&mdash;9-33) if you want to find out more."
   ]
  },
  {
   "cell_type": "markdown",
   "metadata": {
    "slideshow": {
     "slide_type": "slide"
    }
   },
   "source": [
    "### Inverse Z-Transform by the Long Division\n",
    "\n",
    "To apply this method, $F(z)$ must be a rational polynomial functuon, and the numerator and denominator must be polynomials arranged in descending powers of $z$."
   ]
  },
  {
   "cell_type": "markdown",
   "metadata": {
    "slideshow": {
     "slide_type": "subslide"
    }
   },
   "source": [
    "### Example 4\n",
    "\n",
    "Karris example 9.9: use the long division method to determine $f[n]$ for $n = 0,\\,1,\\,\\mathrm{and}\\,2$, given that\n",
    "\n",
    "$$F(z) = \\frac{1 + z^{-1} + 2z^{-2} + 3z^{-3}}{(1 - 0.25z^{-1})(1 - 0.5z^{-1})(1 - 0.75z^{-1})}$$"
   ]
  },
  {
   "cell_type": "markdown",
   "metadata": {
    "slideshow": {
     "slide_type": "notes"
    }
   },
   "source": [
    "<pre style=\"border: 2px solid blue\">\n",
    "\n",
    "\n",
    "\n",
    "\n",
    "\n",
    "\n",
    "\n",
    "\n",
    "\n",
    "\n",
    "\n",
    "\n",
    "\n",
    "\n",
    "\n",
    "\n",
    "\n",
    "\n",
    "\n",
    "</pre>"
   ]
  },
  {
   "cell_type": "markdown",
   "metadata": {
    "slideshow": {
     "slide_type": "subslide"
    }
   },
   "source": [
    "### Answer 4\n",
    "\n",
    "$f[0] = 1$, $f[1] = 5/2$, $f[2] = 81/16$, ...."
   ]
  },
  {
   "cell_type": "markdown",
   "metadata": {
    "slideshow": {
     "slide_type": "subslide"
    }
   },
   "source": [
    "### Matlab\n",
    "\n",
    "See [example4.m](matlab/example4.m)\n",
    "\n",
    "````\n",
    "sym_den =\n",
    " \n",
    "z^3 - (3*z^2)/2 + (11*z)/16 - 3/32\n",
    " \n",
    "\n",
    "fn =\n",
    "\n",
    "    1.0000\n",
    "    2.5000\n",
    "    5.0625\n",
    "    ....\n",
    "````"
   ]
  },
  {
   "cell_type": "markdown",
   "metadata": {
    "slideshow": {
     "slide_type": "subslide"
    }
   },
   "source": [
    "### Combined Staircase/Lollipop Plot\n",
    "\n",
    "<img src=\"pictures/example4.png\">"
   ]
  },
  {
   "cell_type": "markdown",
   "metadata": {
    "slideshow": {
     "slide_type": "slide"
    }
   },
   "source": [
    "## Methods of Evaluation of the Inverse Z-Transform\n",
    "\n",
    "<table>\n",
    "<thead>\n",
    "<tr><th>Method</th><th>Advantages</th><th>Disadvantages</th></tr>\n",
    "</thead>\n",
    "<tbody>\n",
    "<tr><td>Partial Fraction Expansion</td><td><ul><li>Most familiar.</li><li>Can use Matlab `residue` function.</li></ul></td><td><ul><li>Requires that $F(z)$ is a proper rational function.</li></ul></td></tr>\n",
    "<tr><td>Invsersion Integral</td><td><ul><li>Can be used whether $F(z)$ is rational or not</li></ul></td><td><ul><li>Requires familiarity with the *Residues theorem* of complex variable analaysis.</li></ul></td></tr>\n",
    "<tr><td>Long Division</td><td><ul><li>Practical when only a small sequence of numbers is desired.</li><li>Useful when z-transform has no closed-form solution.</li><li>Can use Matlab `dimpulse` function to compute a large sequence of numbers.</ul></td><td><ul><li>Requires that $F(z)$ is a proper rational function.</li><li>Division may be endless.</li></ul></td></tr>\n",
    "</tbody>\n",
    "</table>"
   ]
  },
  {
   "cell_type": "markdown",
   "metadata": {
    "slideshow": {
     "slide_type": "slide"
    }
   },
   "source": [
    "## Summary\n",
    "\n",
    "* Inverse Z-Transform\n",
    "* Examples using PFE\n",
    "* Examples using Long Division\n",
    "* Analysis in Matlab\n",
    "\n",
    "*Next time*\n",
    "\n",
    "* DT transfer functions, continuous system equivalents, and modelling DT systems in Matlab and Simulink."
   ]
  }
 ],
 "metadata": {
  "celltoolbar": "Slideshow",
  "kernelspec": {
   "display_name": "Python 3",
   "language": "python",
   "name": "python3"
  },
  "language_info": {
   "codemirror_mode": {
    "name": "ipython",
    "version": 3
   },
   "file_extension": ".py",
   "mimetype": "text/x-python",
   "name": "python",
   "nbconvert_exporter": "python",
   "pygments_lexer": "ipython3",
   "version": "3.5.1"
  }
 },
 "nbformat": 4,
 "nbformat_minor": 0
}
